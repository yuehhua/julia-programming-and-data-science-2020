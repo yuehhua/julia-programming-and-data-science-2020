{
 "cells": [
  {
   "cell_type": "markdown",
   "metadata": {
    "slideshow": {
     "slide_type": "slide"
    }
   },
   "source": [
    "# Data Science in Julia\n",
    "\n",
    "### Data manipulation\n",
    "\n",
    "**by Yueh-Hua Tu**"
   ]
  },
  {
   "cell_type": "markdown",
   "metadata": {
    "slideshow": {
     "slide_type": "slide"
    }
   },
   "source": [
    "# Outline\n",
    "\n",
    "* Missings\n",
    "* DataFrames\n",
    "* Query"
   ]
  },
  {
   "cell_type": "markdown",
   "metadata": {
    "slideshow": {
     "slide_type": "slide"
    }
   },
   "source": [
    "## DataFrames"
   ]
  },
  {
   "cell_type": "code",
   "execution_count": 1,
   "metadata": {},
   "outputs": [],
   "source": [
    "using Statistics\n",
    "using DataFrames, CSV, Query\n",
    "using RDatasets"
   ]
  },
  {
   "cell_type": "code",
   "execution_count": 2,
   "metadata": {},
   "outputs": [
    {
     "name": "stdout",
     "output_type": "stream",
     "text": [
      "\u001b[32m\u001b[1mStatus\u001b[22m\u001b[39m `~/.julia/environments/v1.4/Project.toml`\n",
      " \u001b[90m [336ed68f]\u001b[39m\u001b[37m CSV v0.6.2\u001b[39m\n",
      " \u001b[90m [a93c6f00]\u001b[39m\u001b[37m DataFrames v0.21.1\u001b[39m\n",
      " \u001b[90m [1a8c2f83]\u001b[39m\u001b[37m Query v0.12.2\u001b[39m\n",
      " \u001b[90m [ce6b1742]\u001b[39m\u001b[37m RDatasets v0.6.8\u001b[39m\n"
     ]
    }
   ],
   "source": [
    "using Pkg\n",
    "Pkg.status([\"DataFrames\", \"CSV\", \"Query\", \"RDatasets\"])"
   ]
  },
  {
   "cell_type": "markdown",
   "metadata": {
    "slideshow": {
     "slide_type": "slide"
    }
   },
   "source": [
    "## Missing"
   ]
  },
  {
   "cell_type": "markdown",
   "metadata": {},
   "source": [
    "* `missing` is used to represent a missing value in Julia, and it is a built-in object.\n",
    "* `missing` is the singleton of `Missing` type.\n",
    "* Whenever operations including `missing` are undetermined will return `missing`."
   ]
  },
  {
   "cell_type": "code",
   "execution_count": 3,
   "metadata": {
    "slideshow": {
     "slide_type": "fragment"
    }
   },
   "outputs": [
    {
     "data": {
      "text/plain": [
       "missing"
      ]
     },
     "execution_count": 3,
     "metadata": {},
     "output_type": "execute_result"
    }
   ],
   "source": [
    "true && missing"
   ]
  },
  {
   "cell_type": "code",
   "execution_count": 4,
   "metadata": {
    "slideshow": {
     "slide_type": "fragment"
    }
   },
   "outputs": [
    {
     "data": {
      "text/plain": [
       "missing"
      ]
     },
     "execution_count": 4,
     "metadata": {},
     "output_type": "execute_result"
    }
   ],
   "source": [
    "1 + missing"
   ]
  },
  {
   "cell_type": "markdown",
   "metadata": {
    "slideshow": {
     "slide_type": "slide"
    }
   },
   "source": [
    "## Short-cut logic"
   ]
  },
  {
   "cell_type": "code",
   "execution_count": 5,
   "metadata": {
    "slideshow": {
     "slide_type": "fragment"
    }
   },
   "outputs": [
    {
     "data": {
      "text/plain": [
       "false"
      ]
     },
     "execution_count": 5,
     "metadata": {},
     "output_type": "execute_result"
    }
   ],
   "source": [
    "false && missing"
   ]
  },
  {
   "cell_type": "code",
   "execution_count": 6,
   "metadata": {
    "slideshow": {
     "slide_type": "fragment"
    }
   },
   "outputs": [
    {
     "data": {
      "text/plain": [
       "true"
      ]
     },
     "execution_count": 6,
     "metadata": {},
     "output_type": "execute_result"
    }
   ],
   "source": [
    "true || missing"
   ]
  },
  {
   "cell_type": "code",
   "execution_count": 7,
   "metadata": {
    "slideshow": {
     "slide_type": "fragment"
    }
   },
   "outputs": [
    {
     "data": {
      "text/plain": [
       "true"
      ]
     },
     "execution_count": 7,
     "metadata": {},
     "output_type": "execute_result"
    }
   ],
   "source": [
    "ismissing(missing)"
   ]
  },
  {
   "cell_type": "markdown",
   "metadata": {
    "slideshow": {
     "slide_type": "slide"
    }
   },
   "source": [
    "## DataFrame"
   ]
  },
  {
   "cell_type": "markdown",
   "metadata": {},
   "source": [
    "* `DataFrame` is a table-like data structure containing a series of vectors.\n",
    "* Each column corresponds to a variable and has the same length."
   ]
  },
  {
   "cell_type": "code",
   "execution_count": 8,
   "metadata": {},
   "outputs": [
    {
     "data": {
      "text/html": [
       "<table class=\"data-frame\"><thead><tr><th></th><th>A</th><th>B</th></tr><tr><th></th><th>Int64</th><th>String</th></tr></thead><tbody><p>4 rows × 2 columns</p><tr><th>1</th><td>1</td><td>M</td></tr><tr><th>2</th><td>2</td><td>F</td></tr><tr><th>3</th><td>3</td><td>F</td></tr><tr><th>4</th><td>4</td><td>M</td></tr></tbody></table>"
      ],
      "text/latex": [
       "\\begin{tabular}{r|cc}\n",
       "\t& A & B\\\\\n",
       "\t\\hline\n",
       "\t& Int64 & String\\\\\n",
       "\t\\hline\n",
       "\t1 & 1 & M \\\\\n",
       "\t2 & 2 & F \\\\\n",
       "\t3 & 3 & F \\\\\n",
       "\t4 & 4 & M \\\\\n",
       "\\end{tabular}\n"
      ],
      "text/plain": [
       "4×2 DataFrame\n",
       "│ Row │ A     │ B      │\n",
       "│     │ \u001b[90mInt64\u001b[39m │ \u001b[90mString\u001b[39m │\n",
       "├─────┼───────┼────────┤\n",
       "│ 1   │ 1     │ M      │\n",
       "│ 2   │ 2     │ F      │\n",
       "│ 3   │ 3     │ F      │\n",
       "│ 4   │ 4     │ M      │"
      ]
     },
     "execution_count": 8,
     "metadata": {},
     "output_type": "execute_result"
    }
   ],
   "source": [
    "df = DataFrame(A = 1:4, B = [\"M\", \"F\", \"F\", \"M\"])"
   ]
  },
  {
   "cell_type": "code",
   "execution_count": 9,
   "metadata": {
    "slideshow": {
     "slide_type": "slide"
    }
   },
   "outputs": [
    {
     "data": {
      "text/html": [
       "<table class=\"data-frame\"><thead><tr><th></th><th>A</th><th>B</th></tr><tr><th></th><th>Int64</th><th>String</th></tr></thead><tbody><p>8 rows × 2 columns</p><tr><th>1</th><td>1</td><td>M</td></tr><tr><th>2</th><td>2</td><td>F</td></tr><tr><th>3</th><td>3</td><td>F</td></tr><tr><th>4</th><td>4</td><td>M</td></tr><tr><th>5</th><td>5</td><td>F</td></tr><tr><th>6</th><td>6</td><td>M</td></tr><tr><th>7</th><td>7</td><td>M</td></tr><tr><th>8</th><td>8</td><td>F</td></tr></tbody></table>"
      ],
      "text/latex": [
       "\\begin{tabular}{r|cc}\n",
       "\t& A & B\\\\\n",
       "\t\\hline\n",
       "\t& Int64 & String\\\\\n",
       "\t\\hline\n",
       "\t1 & 1 & M \\\\\n",
       "\t2 & 2 & F \\\\\n",
       "\t3 & 3 & F \\\\\n",
       "\t4 & 4 & M \\\\\n",
       "\t5 & 5 & F \\\\\n",
       "\t6 & 6 & M \\\\\n",
       "\t7 & 7 & M \\\\\n",
       "\t8 & 8 & F \\\\\n",
       "\\end{tabular}\n"
      ],
      "text/plain": [
       "8×2 DataFrame\n",
       "│ Row │ A     │ B      │\n",
       "│     │ \u001b[90mInt64\u001b[39m │ \u001b[90mString\u001b[39m │\n",
       "├─────┼───────┼────────┤\n",
       "│ 1   │ 1     │ M      │\n",
       "│ 2   │ 2     │ F      │\n",
       "│ 3   │ 3     │ F      │\n",
       "│ 4   │ 4     │ M      │\n",
       "│ 5   │ 5     │ F      │\n",
       "│ 6   │ 6     │ M      │\n",
       "│ 7   │ 7     │ M      │\n",
       "│ 8   │ 8     │ F      │"
      ]
     },
     "execution_count": 9,
     "metadata": {},
     "output_type": "execute_result"
    }
   ],
   "source": [
    "df = DataFrame()  # 先初始化一個空的，再放入資料\n",
    "df[!, :A] = 1:8\n",
    "df[!, :B] = [\"M\", \"F\", \"F\", \"M\", \"F\", \"M\", \"M\", \"F\"]\n",
    "df"
   ]
  },
  {
   "cell_type": "markdown",
   "metadata": {
    "slideshow": {
     "slide_type": "slide"
    }
   },
   "source": [
    "## Initialize by rows"
   ]
  },
  {
   "cell_type": "code",
   "execution_count": 10,
   "metadata": {},
   "outputs": [
    {
     "data": {
      "text/html": [
       "<table class=\"data-frame\"><thead><tr><th></th><th>A</th><th>B</th></tr><tr><th></th><th>Int64</th><th>String</th></tr></thead><tbody><p>0 rows × 2 columns</p></tbody></table>"
      ],
      "text/latex": [
       "\\begin{tabular}{r|cc}\n",
       "\t& A & B\\\\\n",
       "\t\\hline\n",
       "\t& Int64 & String\\\\\n",
       "\t\\hline\n",
       "\\end{tabular}\n"
      ],
      "text/plain": [
       "0×2 DataFrame\n"
      ]
     },
     "execution_count": 10,
     "metadata": {},
     "output_type": "execute_result"
    }
   ],
   "source": [
    "df = DataFrame(A=Int64[], B=String[])"
   ]
  },
  {
   "cell_type": "code",
   "execution_count": 11,
   "metadata": {
    "slideshow": {
     "slide_type": "fragment"
    }
   },
   "outputs": [
    {
     "data": {
      "text/html": [
       "<table class=\"data-frame\"><thead><tr><th></th><th>A</th><th>B</th></tr><tr><th></th><th>Int64</th><th>String</th></tr></thead><tbody><p>1 rows × 2 columns</p><tr><th>1</th><td>1</td><td>M</td></tr></tbody></table>"
      ],
      "text/latex": [
       "\\begin{tabular}{r|cc}\n",
       "\t& A & B\\\\\n",
       "\t\\hline\n",
       "\t& Int64 & String\\\\\n",
       "\t\\hline\n",
       "\t1 & 1 & M \\\\\n",
       "\\end{tabular}\n"
      ],
      "text/plain": [
       "1×2 DataFrame\n",
       "│ Row │ A     │ B      │\n",
       "│     │ \u001b[90mInt64\u001b[39m │ \u001b[90mString\u001b[39m │\n",
       "├─────┼───────┼────────┤\n",
       "│ 1   │ 1     │ M      │"
      ]
     },
     "execution_count": 11,
     "metadata": {},
     "output_type": "execute_result"
    }
   ],
   "source": [
    "push!(df, (1, \"M\"))"
   ]
  },
  {
   "cell_type": "code",
   "execution_count": 12,
   "metadata": {
    "slideshow": {
     "slide_type": "fragment"
    }
   },
   "outputs": [
    {
     "data": {
      "text/html": [
       "<table class=\"data-frame\"><thead><tr><th></th><th>A</th><th>B</th></tr><tr><th></th><th>Int64</th><th>String</th></tr></thead><tbody><p>2 rows × 2 columns</p><tr><th>1</th><td>1</td><td>M</td></tr><tr><th>2</th><td>2</td><td>F</td></tr></tbody></table>"
      ],
      "text/latex": [
       "\\begin{tabular}{r|cc}\n",
       "\t& A & B\\\\\n",
       "\t\\hline\n",
       "\t& Int64 & String\\\\\n",
       "\t\\hline\n",
       "\t1 & 1 & M \\\\\n",
       "\t2 & 2 & F \\\\\n",
       "\\end{tabular}\n"
      ],
      "text/plain": [
       "2×2 DataFrame\n",
       "│ Row │ A     │ B      │\n",
       "│     │ \u001b[90mInt64\u001b[39m │ \u001b[90mString\u001b[39m │\n",
       "├─────┼───────┼────────┤\n",
       "│ 1   │ 1     │ M      │\n",
       "│ 2   │ 2     │ F      │"
      ]
     },
     "execution_count": 12,
     "metadata": {},
     "output_type": "execute_result"
    }
   ],
   "source": [
    "push!(df, [2, \"F\"])"
   ]
  },
  {
   "cell_type": "code",
   "execution_count": 13,
   "metadata": {
    "slideshow": {
     "slide_type": "slide"
    }
   },
   "outputs": [
    {
     "data": {
      "text/html": [
       "<table class=\"data-frame\"><thead><tr><th></th><th>A</th><th>B</th></tr><tr><th></th><th>Int64</th><th>String</th></tr></thead><tbody><p>3 rows × 2 columns</p><tr><th>1</th><td>1</td><td>M</td></tr><tr><th>2</th><td>2</td><td>F</td></tr><tr><th>3</th><td>4</td><td>M</td></tr></tbody></table>"
      ],
      "text/latex": [
       "\\begin{tabular}{r|cc}\n",
       "\t& A & B\\\\\n",
       "\t\\hline\n",
       "\t& Int64 & String\\\\\n",
       "\t\\hline\n",
       "\t1 & 1 & M \\\\\n",
       "\t2 & 2 & F \\\\\n",
       "\t3 & 4 & M \\\\\n",
       "\\end{tabular}\n"
      ],
      "text/plain": [
       "3×2 DataFrame\n",
       "│ Row │ A     │ B      │\n",
       "│     │ \u001b[90mInt64\u001b[39m │ \u001b[90mString\u001b[39m │\n",
       "├─────┼───────┼────────┤\n",
       "│ 1   │ 1     │ M      │\n",
       "│ 2   │ 2     │ F      │\n",
       "│ 3   │ 4     │ M      │"
      ]
     },
     "execution_count": 13,
     "metadata": {},
     "output_type": "execute_result"
    }
   ],
   "source": [
    "push!(df, Dict(:B => \"M\", :A => 4))"
   ]
  },
  {
   "cell_type": "markdown",
   "metadata": {
    "slideshow": {
     "slide_type": "slide"
    }
   },
   "source": [
    "## Initialize by matrix"
   ]
  },
  {
   "cell_type": "code",
   "execution_count": 14,
   "metadata": {},
   "outputs": [
    {
     "data": {
      "text/html": [
       "<table class=\"data-frame\"><thead><tr><th></th><th>A</th><th>B</th></tr><tr><th></th><th>Any</th><th>Any</th></tr></thead><tbody><p>3 rows × 2 columns</p><tr><th>1</th><td>1</td><td>M</td></tr><tr><th>2</th><td>2</td><td>F</td></tr><tr><th>3</th><td>3</td><td>F</td></tr></tbody></table>"
      ],
      "text/latex": [
       "\\begin{tabular}{r|cc}\n",
       "\t& A & B\\\\\n",
       "\t\\hline\n",
       "\t& Any & Any\\\\\n",
       "\t\\hline\n",
       "\t1 & 1 & M \\\\\n",
       "\t2 & 2 & F \\\\\n",
       "\t3 & 3 & F \\\\\n",
       "\\end{tabular}\n"
      ],
      "text/plain": [
       "3×2 DataFrame\n",
       "│ Row │ A   │ B   │\n",
       "│     │ \u001b[90mAny\u001b[39m │ \u001b[90mAny\u001b[39m │\n",
       "├─────┼─────┼─────┤\n",
       "│ 1   │ 1   │ M   │\n",
       "│ 2   │ 2   │ F   │\n",
       "│ 3   │ 3   │ F   │"
      ]
     },
     "execution_count": 14,
     "metadata": {},
     "output_type": "execute_result"
    }
   ],
   "source": [
    "mat = [1 \"M\"; 2 \"F\"; 3 \"F\"]\n",
    "DataFrame(mat, [:A, :B])"
   ]
  },
  {
   "cell_type": "markdown",
   "metadata": {
    "slideshow": {
     "slide_type": "slide"
    }
   },
   "source": [
    "## Initialize by dictionary"
   ]
  },
  {
   "cell_type": "code",
   "execution_count": 15,
   "metadata": {},
   "outputs": [
    {
     "data": {
      "text/html": [
       "<table class=\"data-frame\"><thead><tr><th></th><th>A</th><th>B</th></tr><tr><th></th><th>Int64</th><th>String</th></tr></thead><tbody><p>3 rows × 2 columns</p><tr><th>1</th><td>1</td><td>M</td></tr><tr><th>2</th><td>2</td><td>F</td></tr><tr><th>3</th><td>3</td><td>F</td></tr></tbody></table>"
      ],
      "text/latex": [
       "\\begin{tabular}{r|cc}\n",
       "\t& A & B\\\\\n",
       "\t\\hline\n",
       "\t& Int64 & String\\\\\n",
       "\t\\hline\n",
       "\t1 & 1 & M \\\\\n",
       "\t2 & 2 & F \\\\\n",
       "\t3 & 3 & F \\\\\n",
       "\\end{tabular}\n"
      ],
      "text/plain": [
       "3×2 DataFrame\n",
       "│ Row │ A     │ B      │\n",
       "│     │ \u001b[90mInt64\u001b[39m │ \u001b[90mString\u001b[39m │\n",
       "├─────┼───────┼────────┤\n",
       "│ 1   │ 1     │ M      │\n",
       "│ 2   │ 2     │ F      │\n",
       "│ 3   │ 3     │ F      │"
      ]
     },
     "execution_count": 15,
     "metadata": {},
     "output_type": "execute_result"
    }
   ],
   "source": [
    "d = Dict(\"A\" => [1, 2, 3], \"B\" => [\"M\", \"F\", \"F\"])\n",
    "DataFrame(d)"
   ]
  },
  {
   "cell_type": "markdown",
   "metadata": {
    "slideshow": {
     "slide_type": "slide"
    }
   },
   "source": [
    "## Get column"
   ]
  },
  {
   "cell_type": "code",
   "execution_count": 16,
   "metadata": {},
   "outputs": [
    {
     "data": {
      "text/plain": [
       "3-element Array{Int64,1}:\n",
       " 1\n",
       " 2\n",
       " 4"
      ]
     },
     "execution_count": 16,
     "metadata": {},
     "output_type": "execute_result"
    }
   ],
   "source": [
    "df[!, :A]"
   ]
  },
  {
   "cell_type": "code",
   "execution_count": 17,
   "metadata": {
    "slideshow": {
     "slide_type": "fragment"
    }
   },
   "outputs": [
    {
     "data": {
      "text/plain": [
       "3-element Array{Int64,1}:\n",
       " 1\n",
       " 2\n",
       " 4"
      ]
     },
     "execution_count": 17,
     "metadata": {},
     "output_type": "execute_result"
    }
   ],
   "source": [
    "df[!, 1]"
   ]
  },
  {
   "cell_type": "code",
   "execution_count": 18,
   "metadata": {
    "slideshow": {
     "slide_type": "fragment"
    }
   },
   "outputs": [
    {
     "data": {
      "text/plain": [
       "3-element Array{Int64,1}:\n",
       " 1\n",
       " 2\n",
       " 4"
      ]
     },
     "execution_count": 18,
     "metadata": {},
     "output_type": "execute_result"
    }
   ],
   "source": [
    "df.A"
   ]
  },
  {
   "cell_type": "markdown",
   "metadata": {
    "slideshow": {
     "slide_type": "slide"
    }
   },
   "source": [
    "### Indexing by integer"
   ]
  },
  {
   "cell_type": "code",
   "execution_count": 19,
   "metadata": {
    "slideshow": {
     "slide_type": "fragment"
    }
   },
   "outputs": [
    {
     "data": {
      "text/plain": [
       "1"
      ]
     },
     "execution_count": 19,
     "metadata": {},
     "output_type": "execute_result"
    }
   ],
   "source": [
    "df[1, 1]"
   ]
  },
  {
   "cell_type": "markdown",
   "metadata": {
    "slideshow": {
     "slide_type": "fragment"
    }
   },
   "source": [
    "### Indexing by column name"
   ]
  },
  {
   "cell_type": "code",
   "execution_count": 20,
   "metadata": {
    "slideshow": {
     "slide_type": "fragment"
    }
   },
   "outputs": [
    {
     "data": {
      "text/plain": [
       "1"
      ]
     },
     "execution_count": 20,
     "metadata": {},
     "output_type": "execute_result"
    }
   ],
   "source": [
    "df[1, :A]"
   ]
  },
  {
   "cell_type": "markdown",
   "metadata": {
    "slideshow": {
     "slide_type": "slide"
    }
   },
   "source": [
    "### Dimension information"
   ]
  },
  {
   "cell_type": "code",
   "execution_count": 21,
   "metadata": {},
   "outputs": [
    {
     "data": {
      "text/plain": [
       "(3, 2)"
      ]
     },
     "execution_count": 21,
     "metadata": {},
     "output_type": "execute_result"
    }
   ],
   "source": [
    "size(df)"
   ]
  },
  {
   "cell_type": "code",
   "execution_count": 22,
   "metadata": {
    "slideshow": {
     "slide_type": "fragment"
    }
   },
   "outputs": [
    {
     "data": {
      "text/plain": [
       "3"
      ]
     },
     "execution_count": 22,
     "metadata": {},
     "output_type": "execute_result"
    }
   ],
   "source": [
    "nrow(df)"
   ]
  },
  {
   "cell_type": "code",
   "execution_count": 23,
   "metadata": {
    "slideshow": {
     "slide_type": "fragment"
    }
   },
   "outputs": [
    {
     "data": {
      "text/plain": [
       "2"
      ]
     },
     "execution_count": 23,
     "metadata": {},
     "output_type": "execute_result"
    }
   ],
   "source": [
    "ncol(df)"
   ]
  },
  {
   "cell_type": "markdown",
   "metadata": {
    "slideshow": {
     "slide_type": "slide"
    }
   },
   "source": [
    "### Get column names"
   ]
  },
  {
   "cell_type": "code",
   "execution_count": 24,
   "metadata": {},
   "outputs": [
    {
     "data": {
      "text/plain": [
       "2-element Array{String,1}:\n",
       " \"A\"\n",
       " \"B\""
      ]
     },
     "execution_count": 24,
     "metadata": {},
     "output_type": "execute_result"
    }
   ],
   "source": [
    "names(df)"
   ]
  },
  {
   "cell_type": "code",
   "execution_count": 25,
   "metadata": {
    "slideshow": {
     "slide_type": "fragment"
    }
   },
   "outputs": [
    {
     "data": {
      "text/html": [
       "<table class=\"data-frame\"><thead><tr><th></th><th>A</th><th>B</th></tr><tr><th></th><th>Int64</th><th>String</th></tr></thead><tbody><p>3 rows × 2 columns</p><tr><th>1</th><td>1</td><td>M</td></tr><tr><th>2</th><td>2</td><td>F</td></tr><tr><th>3</th><td>4</td><td>M</td></tr></tbody></table>"
      ],
      "text/latex": [
       "\\begin{tabular}{r|cc}\n",
       "\t& A & B\\\\\n",
       "\t\\hline\n",
       "\t& Int64 & String\\\\\n",
       "\t\\hline\n",
       "\t1 & 1 & M \\\\\n",
       "\t2 & 2 & F \\\\\n",
       "\t3 & 4 & M \\\\\n",
       "\\end{tabular}\n"
      ],
      "text/plain": [
       "3×2 DataFrame\n",
       "│ Row │ A     │ B      │\n",
       "│     │ \u001b[90mInt64\u001b[39m │ \u001b[90mString\u001b[39m │\n",
       "├─────┼───────┼────────┤\n",
       "│ 1   │ 1     │ M      │\n",
       "│ 2   │ 2     │ F      │\n",
       "│ 3   │ 4     │ M      │"
      ]
     },
     "execution_count": 25,
     "metadata": {},
     "output_type": "execute_result"
    }
   ],
   "source": [
    "df[1:3, :]"
   ]
  },
  {
   "cell_type": "markdown",
   "metadata": {
    "slideshow": {
     "slide_type": "slide"
    }
   },
   "source": [
    "## Get slice"
   ]
  },
  {
   "cell_type": "code",
   "execution_count": 26,
   "metadata": {},
   "outputs": [
    {
     "data": {
      "text/html": [
       "<table class=\"data-frame\"><thead><tr><th></th><th>B</th><th>A</th></tr><tr><th></th><th>String</th><th>Int64</th></tr></thead><tbody><p>3 rows × 2 columns</p><tr><th>1</th><td>M</td><td>1</td></tr><tr><th>2</th><td>F</td><td>2</td></tr><tr><th>3</th><td>M</td><td>4</td></tr></tbody></table>"
      ],
      "text/latex": [
       "\\begin{tabular}{r|cc}\n",
       "\t& B & A\\\\\n",
       "\t\\hline\n",
       "\t& String & Int64\\\\\n",
       "\t\\hline\n",
       "\t1 & M & 1 \\\\\n",
       "\t2 & F & 2 \\\\\n",
       "\t3 & M & 4 \\\\\n",
       "\\end{tabular}\n"
      ],
      "text/plain": [
       "3×2 DataFrame\n",
       "│ Row │ B      │ A     │\n",
       "│     │ \u001b[90mString\u001b[39m │ \u001b[90mInt64\u001b[39m │\n",
       "├─────┼────────┼───────┤\n",
       "│ 1   │ M      │ 1     │\n",
       "│ 2   │ F      │ 2     │\n",
       "│ 3   │ M      │ 4     │"
      ]
     },
     "execution_count": 26,
     "metadata": {},
     "output_type": "execute_result"
    }
   ],
   "source": [
    "df[1:3, [:B, :A]]"
   ]
  },
  {
   "cell_type": "markdown",
   "metadata": {
    "slideshow": {
     "slide_type": "slide"
    }
   },
   "source": [
    "## Assign column"
   ]
  },
  {
   "cell_type": "code",
   "execution_count": 27,
   "metadata": {},
   "outputs": [
    {
     "data": {
      "text/html": [
       "<table class=\"data-frame\"><thead><tr><th></th><th>A</th><th>B</th><th>C</th></tr><tr><th></th><th>Int64</th><th>String</th><th>Char</th></tr></thead><tbody><p>3 rows × 3 columns</p><tr><th>1</th><td>1</td><td>M</td><td>'a'</td></tr><tr><th>2</th><td>2</td><td>F</td><td>'b'</td></tr><tr><th>3</th><td>4</td><td>M</td><td>'c'</td></tr></tbody></table>"
      ],
      "text/latex": [
       "\\begin{tabular}{r|ccc}\n",
       "\t& A & B & C\\\\\n",
       "\t\\hline\n",
       "\t& Int64 & String & Char\\\\\n",
       "\t\\hline\n",
       "\t1 & 1 & M & 'a' \\\\\n",
       "\t2 & 2 & F & 'b' \\\\\n",
       "\t3 & 4 & M & 'c' \\\\\n",
       "\\end{tabular}\n"
      ],
      "text/plain": [
       "3×3 DataFrame\n",
       "│ Row │ A     │ B      │ C    │\n",
       "│     │ \u001b[90mInt64\u001b[39m │ \u001b[90mString\u001b[39m │ \u001b[90mChar\u001b[39m │\n",
       "├─────┼───────┼────────┼──────┤\n",
       "│ 1   │ 1     │ M      │ 'a'  │\n",
       "│ 2   │ 2     │ F      │ 'b'  │\n",
       "│ 3   │ 4     │ M      │ 'c'  │"
      ]
     },
     "execution_count": 27,
     "metadata": {},
     "output_type": "execute_result"
    }
   ],
   "source": [
    "df[!, :C] = ['a', 'b', 'c']\n",
    "df"
   ]
  },
  {
   "cell_type": "code",
   "execution_count": 28,
   "metadata": {
    "slideshow": {
     "slide_type": "fragment"
    }
   },
   "outputs": [
    {
     "data": {
      "text/html": [
       "<table class=\"data-frame\"><thead><tr><th></th><th>A</th><th>B</th><th>C</th></tr><tr><th></th><th>Int64</th><th>Char</th><th>Char</th></tr></thead><tbody><p>3 rows × 3 columns</p><tr><th>1</th><td>1</td><td>'α'</td><td>'a'</td></tr><tr><th>2</th><td>2</td><td>'β'</td><td>'b'</td></tr><tr><th>3</th><td>4</td><td>'γ'</td><td>'c'</td></tr></tbody></table>"
      ],
      "text/latex": [
       "\\begin{tabular}{r|ccc}\n",
       "\t& A & B & C\\\\\n",
       "\t\\hline\n",
       "\t& Int64 & Char & Char\\\\\n",
       "\t\\hline\n",
       "\t1 & 1 & 'α' & 'a' \\\\\n",
       "\t2 & 2 & 'β' & 'b' \\\\\n",
       "\t3 & 4 & 'γ' & 'c' \\\\\n",
       "\\end{tabular}\n"
      ],
      "text/plain": [
       "3×3 DataFrame\n",
       "│ Row │ A     │ B    │ C    │\n",
       "│     │ \u001b[90mInt64\u001b[39m │ \u001b[90mChar\u001b[39m │ \u001b[90mChar\u001b[39m │\n",
       "├─────┼───────┼──────┼──────┤\n",
       "│ 1   │ 1     │ 'α'  │ 'a'  │\n",
       "│ 2   │ 2     │ 'β'  │ 'b'  │\n",
       "│ 3   │ 4     │ 'γ'  │ 'c'  │"
      ]
     },
     "execution_count": 28,
     "metadata": {},
     "output_type": "execute_result"
    }
   ],
   "source": [
    "df[!, :B] = ['α', 'β', 'γ']\n",
    "df"
   ]
  },
  {
   "cell_type": "markdown",
   "metadata": {
    "slideshow": {
     "slide_type": "slide"
    }
   },
   "source": [
    "## Conditioning"
   ]
  },
  {
   "cell_type": "code",
   "execution_count": 29,
   "metadata": {
    "slideshow": {
     "slide_type": "fragment"
    }
   },
   "outputs": [
    {
     "data": {
      "text/html": [
       "<table class=\"data-frame\"><thead><tr><th></th><th>A</th><th>B</th><th>C</th></tr><tr><th></th><th>Int64</th><th>Char</th><th>Char</th></tr></thead><tbody><p>2 rows × 3 columns</p><tr><th>1</th><td>2</td><td>'β'</td><td>'b'</td></tr><tr><th>2</th><td>4</td><td>'γ'</td><td>'c'</td></tr></tbody></table>"
      ],
      "text/latex": [
       "\\begin{tabular}{r|ccc}\n",
       "\t& A & B & C\\\\\n",
       "\t\\hline\n",
       "\t& Int64 & Char & Char\\\\\n",
       "\t\\hline\n",
       "\t1 & 2 & 'β' & 'b' \\\\\n",
       "\t2 & 4 & 'γ' & 'c' \\\\\n",
       "\\end{tabular}\n"
      ],
      "text/plain": [
       "2×3 DataFrame\n",
       "│ Row │ A     │ B    │ C    │\n",
       "│     │ \u001b[90mInt64\u001b[39m │ \u001b[90mChar\u001b[39m │ \u001b[90mChar\u001b[39m │\n",
       "├─────┼───────┼──────┼──────┤\n",
       "│ 1   │ 2     │ 'β'  │ 'b'  │\n",
       "│ 2   │ 4     │ 'γ'  │ 'c'  │"
      ]
     },
     "execution_count": 29,
     "metadata": {},
     "output_type": "execute_result"
    }
   ],
   "source": [
    "df[df[!,:A] .% 2 .== 0, :]  # 取符合條件的列，跟所有欄位"
   ]
  },
  {
   "cell_type": "markdown",
   "metadata": {
    "slideshow": {
     "slide_type": "slide"
    }
   },
   "source": [
    "## Calculation"
   ]
  },
  {
   "cell_type": "code",
   "execution_count": 30,
   "metadata": {},
   "outputs": [
    {
     "data": {
      "text/html": [
       "<table class=\"data-frame\"><thead><tr><th></th><th>A</th><th>B</th><th>C</th><th>D</th></tr><tr><th></th><th>Int64</th><th>Char</th><th>Char</th><th>String</th></tr></thead><tbody><p>3 rows × 4 columns</p><tr><th>1</th><td>1</td><td>'α'</td><td>'a'</td><td>αa</td></tr><tr><th>2</th><td>2</td><td>'β'</td><td>'b'</td><td>βb</td></tr><tr><th>3</th><td>4</td><td>'γ'</td><td>'c'</td><td>γc</td></tr></tbody></table>"
      ],
      "text/latex": [
       "\\begin{tabular}{r|cccc}\n",
       "\t& A & B & C & D\\\\\n",
       "\t\\hline\n",
       "\t& Int64 & Char & Char & String\\\\\n",
       "\t\\hline\n",
       "\t1 & 1 & 'α' & 'a' & αa \\\\\n",
       "\t2 & 2 & 'β' & 'b' & βb \\\\\n",
       "\t3 & 4 & 'γ' & 'c' & γc \\\\\n",
       "\\end{tabular}\n"
      ],
      "text/plain": [
       "3×4 DataFrame\n",
       "│ Row │ A     │ B    │ C    │ D      │\n",
       "│     │ \u001b[90mInt64\u001b[39m │ \u001b[90mChar\u001b[39m │ \u001b[90mChar\u001b[39m │ \u001b[90mString\u001b[39m │\n",
       "├─────┼───────┼──────┼──────┼────────┤\n",
       "│ 1   │ 1     │ 'α'  │ 'a'  │ αa     │\n",
       "│ 2   │ 2     │ 'β'  │ 'b'  │ βb     │\n",
       "│ 3   │ 4     │ 'γ'  │ 'c'  │ γc     │"
      ]
     },
     "execution_count": 30,
     "metadata": {},
     "output_type": "execute_result"
    }
   ],
   "source": [
    "df[!, :D] = df[!, :B] .* df[!, :C]\n",
    "df"
   ]
  },
  {
   "cell_type": "markdown",
   "metadata": {
    "slideshow": {
     "slide_type": "slide"
    }
   },
   "source": [
    "## Aggregation"
   ]
  },
  {
   "cell_type": "code",
   "execution_count": 31,
   "metadata": {},
   "outputs": [
    {
     "data": {
      "text/plain": [
       "2.3333333333333335"
      ]
     },
     "execution_count": 31,
     "metadata": {},
     "output_type": "execute_result"
    }
   ],
   "source": [
    "mean(df[!,1])  # 對第1欄取平均"
   ]
  },
  {
   "cell_type": "code",
   "execution_count": 32,
   "metadata": {
    "slideshow": {
     "slide_type": "fragment"
    }
   },
   "outputs": [
    {
     "data": {
      "text/plain": [
       "2.0"
      ]
     },
     "execution_count": 32,
     "metadata": {},
     "output_type": "execute_result"
    }
   ],
   "source": [
    "median(df[!,:A])  # 對第一個欄位取中位數"
   ]
  },
  {
   "cell_type": "code",
   "execution_count": 33,
   "metadata": {
    "slideshow": {
     "slide_type": "fragment"
    }
   },
   "outputs": [
    {
     "data": {
      "text/html": [
       "<table class=\"data-frame\"><thead><tr><th></th><th>A</th><th>B</th></tr><tr><th></th><th>Int64</th><th>Float64</th></tr></thead><tbody><p>4 rows × 2 columns</p><tr><th>1</th><td>1</td><td>0.238524</td></tr><tr><th>2</th><td>3</td><td>1.09133</td></tr><tr><th>3</th><td>6</td><td>0.384994</td></tr><tr><th>4</th><td>10</td><td>0.286134</td></tr></tbody></table>"
      ],
      "text/latex": [
       "\\begin{tabular}{r|cc}\n",
       "\t& A & B\\\\\n",
       "\t\\hline\n",
       "\t& Int64 & Float64\\\\\n",
       "\t\\hline\n",
       "\t1 & 1 & 0.238524 \\\\\n",
       "\t2 & 3 & 1.09133 \\\\\n",
       "\t3 & 6 & 0.384994 \\\\\n",
       "\t4 & 10 & 0.286134 \\\\\n",
       "\\end{tabular}\n"
      ],
      "text/plain": [
       "4×2 DataFrame\n",
       "│ Row │ A     │ B        │\n",
       "│     │ \u001b[90mInt64\u001b[39m │ \u001b[90mFloat64\u001b[39m  │\n",
       "├─────┼───────┼──────────┤\n",
       "│ 1   │ 1     │ 0.238524 │\n",
       "│ 2   │ 3     │ 1.09133  │\n",
       "│ 3   │ 6     │ 0.384994 │\n",
       "│ 4   │ 10    │ 0.286134 │"
      ]
     },
     "execution_count": 33,
     "metadata": {},
     "output_type": "execute_result"
    }
   ],
   "source": [
    "df = DataFrame(A = 1:4, B = randn(4))\n",
    "mapcols(cumsum, df)"
   ]
  },
  {
   "cell_type": "markdown",
   "metadata": {
    "slideshow": {
     "slide_type": "slide"
    }
   },
   "source": [
    "## Storage"
   ]
  },
  {
   "cell_type": "code",
   "execution_count": 34,
   "metadata": {},
   "outputs": [
    {
     "data": {
      "text/plain": [
       "\"test.csv\""
      ]
     },
     "execution_count": 34,
     "metadata": {},
     "output_type": "execute_result"
    }
   ],
   "source": [
    "CSV.write(\"test.csv\", df)"
   ]
  },
  {
   "cell_type": "code",
   "execution_count": 35,
   "metadata": {
    "slideshow": {
     "slide_type": "fragment"
    }
   },
   "outputs": [
    {
     "data": {
      "text/html": [
       "<table class=\"data-frame\"><thead><tr><th></th><th>A</th><th>B</th></tr><tr><th></th><th>Int64</th><th>Float64</th></tr></thead><tbody><p>4 rows × 2 columns</p><tr><th>1</th><td>1</td><td>0.238524</td></tr><tr><th>2</th><td>2</td><td>0.852803</td></tr><tr><th>3</th><td>3</td><td>-0.706332</td></tr><tr><th>4</th><td>4</td><td>-0.0988603</td></tr></tbody></table>"
      ],
      "text/latex": [
       "\\begin{tabular}{r|cc}\n",
       "\t& A & B\\\\\n",
       "\t\\hline\n",
       "\t& Int64 & Float64\\\\\n",
       "\t\\hline\n",
       "\t1 & 1 & 0.238524 \\\\\n",
       "\t2 & 2 & 0.852803 \\\\\n",
       "\t3 & 3 & -0.706332 \\\\\n",
       "\t4 & 4 & -0.0988603 \\\\\n",
       "\\end{tabular}\n"
      ],
      "text/plain": [
       "4×2 DataFrame\n",
       "│ Row │ A     │ B          │\n",
       "│     │ \u001b[90mInt64\u001b[39m │ \u001b[90mFloat64\u001b[39m    │\n",
       "├─────┼───────┼────────────┤\n",
       "│ 1   │ 1     │ 0.238524   │\n",
       "│ 2   │ 2     │ 0.852803   │\n",
       "│ 3   │ 3     │ -0.706332  │\n",
       "│ 4   │ 4     │ -0.0988603 │"
      ]
     },
     "execution_count": 35,
     "metadata": {},
     "output_type": "execute_result"
    }
   ],
   "source": [
    "df = CSV.read(\"test.csv\")"
   ]
  },
  {
   "cell_type": "markdown",
   "metadata": {
    "slideshow": {
     "slide_type": "slide"
    }
   },
   "source": [
    "## Play with data"
   ]
  },
  {
   "cell_type": "code",
   "execution_count": 36,
   "metadata": {},
   "outputs": [
    {
     "data": {
      "text/html": [
       "<table class=\"data-frame\"><thead><tr><th></th><th>Package</th><th>Dataset</th><th>Title</th><th>Rows</th><th>Columns</th></tr><tr><th></th><th>String</th><th>String</th><th>String</th><th>Int64</th><th>Int64</th></tr></thead><tbody><p>6 rows × 5 columns</p><tr><th>1</th><td>COUNT</td><td>affairs</td><td>affairs</td><td>601</td><td>18</td></tr><tr><th>2</th><td>COUNT</td><td>azdrg112</td><td>azdrg112</td><td>1798</td><td>4</td></tr><tr><th>3</th><td>COUNT</td><td>azpro</td><td>azpro</td><td>3589</td><td>6</td></tr><tr><th>4</th><td>COUNT</td><td>badhealth</td><td>badhealth</td><td>1127</td><td>3</td></tr><tr><th>5</th><td>COUNT</td><td>fasttrakg</td><td>fasttrakg</td><td>15</td><td>9</td></tr><tr><th>6</th><td>COUNT</td><td>lbw</td><td>lbw</td><td>189</td><td>10</td></tr></tbody></table>"
      ],
      "text/latex": [
       "\\begin{tabular}{r|ccccc}\n",
       "\t& Package & Dataset & Title & Rows & Columns\\\\\n",
       "\t\\hline\n",
       "\t& String & String & String & Int64 & Int64\\\\\n",
       "\t\\hline\n",
       "\t1 & COUNT & affairs & affairs & 601 & 18 \\\\\n",
       "\t2 & COUNT & azdrg112 & azdrg112 & 1798 & 4 \\\\\n",
       "\t3 & COUNT & azpro & azpro & 3589 & 6 \\\\\n",
       "\t4 & COUNT & badhealth & badhealth & 1127 & 3 \\\\\n",
       "\t5 & COUNT & fasttrakg & fasttrakg & 15 & 9 \\\\\n",
       "\t6 & COUNT & lbw & lbw & 189 & 10 \\\\\n",
       "\\end{tabular}\n"
      ],
      "text/plain": [
       "6×5 DataFrame\n",
       "│ Row │ Package │ Dataset   │ Title     │ Rows  │ Columns │\n",
       "│     │ \u001b[90mString\u001b[39m  │ \u001b[90mString\u001b[39m    │ \u001b[90mString\u001b[39m    │ \u001b[90mInt64\u001b[39m │ \u001b[90mInt64\u001b[39m   │\n",
       "├─────┼─────────┼───────────┼───────────┼───────┼─────────┤\n",
       "│ 1   │ COUNT   │ affairs   │ affairs   │ 601   │ 18      │\n",
       "│ 2   │ COUNT   │ azdrg112  │ azdrg112  │ 1798  │ 4       │\n",
       "│ 3   │ COUNT   │ azpro     │ azpro     │ 3589  │ 6       │\n",
       "│ 4   │ COUNT   │ badhealth │ badhealth │ 1127  │ 3       │\n",
       "│ 5   │ COUNT   │ fasttrakg │ fasttrakg │ 15    │ 9       │\n",
       "│ 6   │ COUNT   │ lbw       │ lbw       │ 189   │ 10      │"
      ]
     },
     "execution_count": 36,
     "metadata": {},
     "output_type": "execute_result"
    }
   ],
   "source": [
    "first(RDatasets.datasets(), 6)  # 可以選你要的資料集"
   ]
  },
  {
   "cell_type": "code",
   "execution_count": 37,
   "metadata": {
    "slideshow": {
     "slide_type": "slide"
    }
   },
   "outputs": [
    {
     "data": {
      "text/html": [
       "<table class=\"data-frame\"><thead><tr><th></th><th>SepalLength</th><th>SepalWidth</th><th>PetalLength</th><th>PetalWidth</th><th>Species</th></tr><tr><th></th><th>Float64</th><th>Float64</th><th>Float64</th><th>Float64</th><th>Cat…</th></tr></thead><tbody><p>6 rows × 5 columns</p><tr><th>1</th><td>5.1</td><td>3.5</td><td>1.4</td><td>0.2</td><td>setosa</td></tr><tr><th>2</th><td>4.9</td><td>3.0</td><td>1.4</td><td>0.2</td><td>setosa</td></tr><tr><th>3</th><td>4.7</td><td>3.2</td><td>1.3</td><td>0.2</td><td>setosa</td></tr><tr><th>4</th><td>4.6</td><td>3.1</td><td>1.5</td><td>0.2</td><td>setosa</td></tr><tr><th>5</th><td>5.0</td><td>3.6</td><td>1.4</td><td>0.2</td><td>setosa</td></tr><tr><th>6</th><td>5.4</td><td>3.9</td><td>1.7</td><td>0.4</td><td>setosa</td></tr></tbody></table>"
      ],
      "text/latex": [
       "\\begin{tabular}{r|ccccc}\n",
       "\t& SepalLength & SepalWidth & PetalLength & PetalWidth & Species\\\\\n",
       "\t\\hline\n",
       "\t& Float64 & Float64 & Float64 & Float64 & Cat…\\\\\n",
       "\t\\hline\n",
       "\t1 & 5.1 & 3.5 & 1.4 & 0.2 & setosa \\\\\n",
       "\t2 & 4.9 & 3.0 & 1.4 & 0.2 & setosa \\\\\n",
       "\t3 & 4.7 & 3.2 & 1.3 & 0.2 & setosa \\\\\n",
       "\t4 & 4.6 & 3.1 & 1.5 & 0.2 & setosa \\\\\n",
       "\t5 & 5.0 & 3.6 & 1.4 & 0.2 & setosa \\\\\n",
       "\t6 & 5.4 & 3.9 & 1.7 & 0.4 & setosa \\\\\n",
       "\\end{tabular}\n"
      ],
      "text/plain": [
       "6×5 DataFrame\n",
       "│ Row │ SepalLength │ SepalWidth │ PetalLength │ PetalWidth │ Species │\n",
       "│     │ \u001b[90mFloat64\u001b[39m     │ \u001b[90mFloat64\u001b[39m    │ \u001b[90mFloat64\u001b[39m     │ \u001b[90mFloat64\u001b[39m    │ \u001b[90mCat…\u001b[39m    │\n",
       "├─────┼─────────────┼────────────┼─────────────┼────────────┼─────────┤\n",
       "│ 1   │ 5.1         │ 3.5        │ 1.4         │ 0.2        │ setosa  │\n",
       "│ 2   │ 4.9         │ 3.0        │ 1.4         │ 0.2        │ setosa  │\n",
       "│ 3   │ 4.7         │ 3.2        │ 1.3         │ 0.2        │ setosa  │\n",
       "│ 4   │ 4.6         │ 3.1        │ 1.5         │ 0.2        │ setosa  │\n",
       "│ 5   │ 5.0         │ 3.6        │ 1.4         │ 0.2        │ setosa  │\n",
       "│ 6   │ 5.4         │ 3.9        │ 1.7         │ 0.4        │ setosa  │"
      ]
     },
     "execution_count": 37,
     "metadata": {},
     "output_type": "execute_result"
    }
   ],
   "source": [
    "iris = dataset(\"datasets\", \"iris\")\n",
    "first(iris, 6)"
   ]
  },
  {
   "cell_type": "code",
   "execution_count": 38,
   "metadata": {
    "slideshow": {
     "slide_type": "fragment"
    }
   },
   "outputs": [
    {
     "data": {
      "text/plain": [
       "(150, 5)"
      ]
     },
     "execution_count": 38,
     "metadata": {},
     "output_type": "execute_result"
    }
   ],
   "source": [
    "size(iris)  # 看一下他有幾列幾行"
   ]
  },
  {
   "cell_type": "markdown",
   "metadata": {
    "slideshow": {
     "slide_type": "slide"
    }
   },
   "source": [
    "## Concatenate DataFrames"
   ]
  },
  {
   "cell_type": "code",
   "execution_count": 39,
   "metadata": {},
   "outputs": [
    {
     "data": {
      "text/plain": [
       "(300, 5)"
      ]
     },
     "execution_count": 39,
     "metadata": {},
     "output_type": "execute_result"
    }
   ],
   "source": [
    "size(vcat(iris, iris))"
   ]
  },
  {
   "cell_type": "code",
   "execution_count": 40,
   "metadata": {
    "slideshow": {
     "slide_type": "fragment"
    }
   },
   "outputs": [
    {
     "data": {
      "text/plain": [
       "(150, 10)"
      ]
     },
     "execution_count": 40,
     "metadata": {},
     "output_type": "execute_result"
    }
   ],
   "source": [
    "size(hcat(iris, iris, makeunique=true))"
   ]
  },
  {
   "cell_type": "markdown",
   "metadata": {
    "slideshow": {
     "slide_type": "slide"
    }
   },
   "source": [
    "## Check if missing exists in each row"
   ]
  },
  {
   "cell_type": "code",
   "execution_count": 41,
   "metadata": {},
   "outputs": [
    {
     "data": {
      "text/plain": [
       "150-element BitArray{1}:\n",
       " 1\n",
       " 1\n",
       " 1\n",
       " 1\n",
       " 1\n",
       " 1\n",
       " 1\n",
       " 1\n",
       " 1\n",
       " 1\n",
       " 1\n",
       " 1\n",
       " 1\n",
       " ⋮\n",
       " 1\n",
       " 1\n",
       " 1\n",
       " 1\n",
       " 1\n",
       " 1\n",
       " 1\n",
       " 1\n",
       " 1\n",
       " 1\n",
       " 1\n",
       " 1"
      ]
     },
     "execution_count": 41,
     "metadata": {},
     "output_type": "execute_result"
    }
   ],
   "source": [
    "completecases(iris)  # true means no missing"
   ]
  },
  {
   "cell_type": "markdown",
   "metadata": {
    "slideshow": {
     "slide_type": "slide"
    }
   },
   "source": [
    "## Select complete cases"
   ]
  },
  {
   "cell_type": "code",
   "execution_count": 42,
   "metadata": {},
   "outputs": [
    {
     "data": {
      "text/html": [
       "<table class=\"data-frame\"><thead><tr><th></th><th>SepalLength</th><th>SepalWidth</th><th>PetalLength</th><th>PetalWidth</th><th>Species</th></tr><tr><th></th><th>Float64</th><th>Float64</th><th>Float64</th><th>Float64</th><th>Cat…</th></tr></thead><tbody><p>10 rows × 5 columns</p><tr><th>1</th><td>5.1</td><td>3.5</td><td>1.4</td><td>0.2</td><td>setosa</td></tr><tr><th>2</th><td>4.9</td><td>3.0</td><td>1.4</td><td>0.2</td><td>setosa</td></tr><tr><th>3</th><td>4.7</td><td>3.2</td><td>1.3</td><td>0.2</td><td>setosa</td></tr><tr><th>4</th><td>4.6</td><td>3.1</td><td>1.5</td><td>0.2</td><td>setosa</td></tr><tr><th>5</th><td>5.0</td><td>3.6</td><td>1.4</td><td>0.2</td><td>setosa</td></tr><tr><th>6</th><td>5.4</td><td>3.9</td><td>1.7</td><td>0.4</td><td>setosa</td></tr><tr><th>7</th><td>4.6</td><td>3.4</td><td>1.4</td><td>0.3</td><td>setosa</td></tr><tr><th>8</th><td>5.0</td><td>3.4</td><td>1.5</td><td>0.2</td><td>setosa</td></tr><tr><th>9</th><td>4.4</td><td>2.9</td><td>1.4</td><td>0.2</td><td>setosa</td></tr><tr><th>10</th><td>4.9</td><td>3.1</td><td>1.5</td><td>0.1</td><td>setosa</td></tr></tbody></table>"
      ],
      "text/latex": [
       "\\begin{tabular}{r|ccccc}\n",
       "\t& SepalLength & SepalWidth & PetalLength & PetalWidth & Species\\\\\n",
       "\t\\hline\n",
       "\t& Float64 & Float64 & Float64 & Float64 & Cat…\\\\\n",
       "\t\\hline\n",
       "\t1 & 5.1 & 3.5 & 1.4 & 0.2 & setosa \\\\\n",
       "\t2 & 4.9 & 3.0 & 1.4 & 0.2 & setosa \\\\\n",
       "\t3 & 4.7 & 3.2 & 1.3 & 0.2 & setosa \\\\\n",
       "\t4 & 4.6 & 3.1 & 1.5 & 0.2 & setosa \\\\\n",
       "\t5 & 5.0 & 3.6 & 1.4 & 0.2 & setosa \\\\\n",
       "\t6 & 5.4 & 3.9 & 1.7 & 0.4 & setosa \\\\\n",
       "\t7 & 4.6 & 3.4 & 1.4 & 0.3 & setosa \\\\\n",
       "\t8 & 5.0 & 3.4 & 1.5 & 0.2 & setosa \\\\\n",
       "\t9 & 4.4 & 2.9 & 1.4 & 0.2 & setosa \\\\\n",
       "\t10 & 4.9 & 3.1 & 1.5 & 0.1 & setosa \\\\\n",
       "\\end{tabular}\n"
      ],
      "text/plain": [
       "10×5 DataFrame\n",
       "│ Row │ SepalLength │ SepalWidth │ PetalLength │ PetalWidth │ Species │\n",
       "│     │ \u001b[90mFloat64\u001b[39m     │ \u001b[90mFloat64\u001b[39m    │ \u001b[90mFloat64\u001b[39m     │ \u001b[90mFloat64\u001b[39m    │ \u001b[90mCat…\u001b[39m    │\n",
       "├─────┼─────────────┼────────────┼─────────────┼────────────┼─────────┤\n",
       "│ 1   │ 5.1         │ 3.5        │ 1.4         │ 0.2        │ setosa  │\n",
       "│ 2   │ 4.9         │ 3.0        │ 1.4         │ 0.2        │ setosa  │\n",
       "│ 3   │ 4.7         │ 3.2        │ 1.3         │ 0.2        │ setosa  │\n",
       "│ 4   │ 4.6         │ 3.1        │ 1.5         │ 0.2        │ setosa  │\n",
       "│ 5   │ 5.0         │ 3.6        │ 1.4         │ 0.2        │ setosa  │\n",
       "│ 6   │ 5.4         │ 3.9        │ 1.7         │ 0.4        │ setosa  │\n",
       "│ 7   │ 4.6         │ 3.4        │ 1.4         │ 0.3        │ setosa  │\n",
       "│ 8   │ 5.0         │ 3.4        │ 1.5         │ 0.2        │ setosa  │\n",
       "│ 9   │ 4.4         │ 2.9        │ 1.4         │ 0.2        │ setosa  │\n",
       "│ 10  │ 4.9         │ 3.1        │ 1.5         │ 0.1        │ setosa  │"
      ]
     },
     "execution_count": 42,
     "metadata": {},
     "output_type": "execute_result"
    }
   ],
   "source": [
    "first(iris[completecases(iris), :], 10)  # equivalent to complete_cases!(iris)"
   ]
  },
  {
   "cell_type": "markdown",
   "metadata": {
    "slideshow": {
     "slide_type": "slide"
    }
   },
   "source": [
    "## Get unique combinations"
   ]
  },
  {
   "cell_type": "code",
   "execution_count": 43,
   "metadata": {},
   "outputs": [
    {
     "data": {
      "text/html": [
       "<table class=\"data-frame\"><thead><tr><th></th><th>SepalLength</th><th>SepalWidth</th><th>PetalLength</th><th>PetalWidth</th><th>Species</th></tr><tr><th></th><th>Float64</th><th>Float64</th><th>Float64</th><th>Float64</th><th>Cat…</th></tr></thead><tbody><p>10 rows × 5 columns</p><tr><th>1</th><td>5.1</td><td>3.5</td><td>1.4</td><td>0.2</td><td>setosa</td></tr><tr><th>2</th><td>4.9</td><td>3.0</td><td>1.4</td><td>0.2</td><td>setosa</td></tr><tr><th>3</th><td>4.7</td><td>3.2</td><td>1.3</td><td>0.2</td><td>setosa</td></tr><tr><th>4</th><td>4.6</td><td>3.1</td><td>1.5</td><td>0.2</td><td>setosa</td></tr><tr><th>5</th><td>5.0</td><td>3.6</td><td>1.4</td><td>0.2</td><td>setosa</td></tr><tr><th>6</th><td>5.4</td><td>3.9</td><td>1.7</td><td>0.4</td><td>setosa</td></tr><tr><th>7</th><td>4.6</td><td>3.4</td><td>1.4</td><td>0.3</td><td>setosa</td></tr><tr><th>8</th><td>5.0</td><td>3.4</td><td>1.5</td><td>0.2</td><td>setosa</td></tr><tr><th>9</th><td>4.4</td><td>2.9</td><td>1.4</td><td>0.2</td><td>setosa</td></tr><tr><th>10</th><td>4.9</td><td>3.1</td><td>1.5</td><td>0.1</td><td>setosa</td></tr></tbody></table>"
      ],
      "text/latex": [
       "\\begin{tabular}{r|ccccc}\n",
       "\t& SepalLength & SepalWidth & PetalLength & PetalWidth & Species\\\\\n",
       "\t\\hline\n",
       "\t& Float64 & Float64 & Float64 & Float64 & Cat…\\\\\n",
       "\t\\hline\n",
       "\t1 & 5.1 & 3.5 & 1.4 & 0.2 & setosa \\\\\n",
       "\t2 & 4.9 & 3.0 & 1.4 & 0.2 & setosa \\\\\n",
       "\t3 & 4.7 & 3.2 & 1.3 & 0.2 & setosa \\\\\n",
       "\t4 & 4.6 & 3.1 & 1.5 & 0.2 & setosa \\\\\n",
       "\t5 & 5.0 & 3.6 & 1.4 & 0.2 & setosa \\\\\n",
       "\t6 & 5.4 & 3.9 & 1.7 & 0.4 & setosa \\\\\n",
       "\t7 & 4.6 & 3.4 & 1.4 & 0.3 & setosa \\\\\n",
       "\t8 & 5.0 & 3.4 & 1.5 & 0.2 & setosa \\\\\n",
       "\t9 & 4.4 & 2.9 & 1.4 & 0.2 & setosa \\\\\n",
       "\t10 & 4.9 & 3.1 & 1.5 & 0.1 & setosa \\\\\n",
       "\\end{tabular}\n"
      ],
      "text/plain": [
       "10×5 DataFrame\n",
       "│ Row │ SepalLength │ SepalWidth │ PetalLength │ PetalWidth │ Species │\n",
       "│     │ \u001b[90mFloat64\u001b[39m     │ \u001b[90mFloat64\u001b[39m    │ \u001b[90mFloat64\u001b[39m     │ \u001b[90mFloat64\u001b[39m    │ \u001b[90mCat…\u001b[39m    │\n",
       "├─────┼─────────────┼────────────┼─────────────┼────────────┼─────────┤\n",
       "│ 1   │ 5.1         │ 3.5        │ 1.4         │ 0.2        │ setosa  │\n",
       "│ 2   │ 4.9         │ 3.0        │ 1.4         │ 0.2        │ setosa  │\n",
       "│ 3   │ 4.7         │ 3.2        │ 1.3         │ 0.2        │ setosa  │\n",
       "│ 4   │ 4.6         │ 3.1        │ 1.5         │ 0.2        │ setosa  │\n",
       "│ 5   │ 5.0         │ 3.6        │ 1.4         │ 0.2        │ setosa  │\n",
       "│ 6   │ 5.4         │ 3.9        │ 1.7         │ 0.4        │ setosa  │\n",
       "│ 7   │ 4.6         │ 3.4        │ 1.4         │ 0.3        │ setosa  │\n",
       "│ 8   │ 5.0         │ 3.4        │ 1.5         │ 0.2        │ setosa  │\n",
       "│ 9   │ 4.4         │ 2.9        │ 1.4         │ 0.2        │ setosa  │\n",
       "│ 10  │ 4.9         │ 3.1        │ 1.5         │ 0.1        │ setosa  │"
      ]
     },
     "execution_count": 43,
     "metadata": {},
     "output_type": "execute_result"
    }
   ],
   "source": [
    "first(unique(iris), 10)"
   ]
  },
  {
   "cell_type": "code",
   "execution_count": 44,
   "metadata": {
    "slideshow": {
     "slide_type": "slide"
    }
   },
   "outputs": [
    {
     "data": {
      "text/html": [
       "<p>DataFrameRow (6 columns)</p><table class=\"data-frame\"><thead><tr><th></th><th>SepalLength</th><th>SepalWidth</th><th>PetalLength</th><th>PetalWidth</th><th>Species</th><th>PetalArea</th></tr><tr><th></th><th>Float64</th><th>Float64</th><th>Float64</th><th>Float64</th><th>Cat…</th><th>Float64</th></tr></thead><tbody><tr><th>1</th><td>5.1</td><td>3.5</td><td>1.4</td><td>0.2</td><td>setosa</td><td>0.28</td></tr></tbody></table>"
      ],
      "text/latex": [
       "\\begin{tabular}{r|cccccc}\n",
       "\t& SepalLength & SepalWidth & PetalLength & PetalWidth & Species & PetalArea\\\\\n",
       "\t\\hline\n",
       "\t& Float64 & Float64 & Float64 & Float64 & Cat… & Float64\\\\\n",
       "\t\\hline\n",
       "\t1 & 5.1 & 3.5 & 1.4 & 0.2 & setosa & 0.28 \\\\\n",
       "\\end{tabular}\n"
      ],
      "text/plain": [
       "DataFrameRow. Omitted printing of 1 columns\n",
       "│ Row │ SepalLength │ SepalWidth │ PetalLength │ PetalWidth │ Species │\n",
       "│     │ \u001b[90mFloat64\u001b[39m     │ \u001b[90mFloat64\u001b[39m    │ \u001b[90mFloat64\u001b[39m     │ \u001b[90mFloat64\u001b[39m    │ \u001b[90mCat…\u001b[39m    │\n",
       "├─────┼─────────────┼────────────┼─────────────┼────────────┼─────────┤\n",
       "│ 1   │ 5.1         │ 3.5        │ 1.4         │ 0.2        │ setosa  │"
      ]
     },
     "execution_count": 44,
     "metadata": {},
     "output_type": "execute_result"
    }
   ],
   "source": [
    "iris[!,:PetalArea] = iris[!,:PetalLength] .* iris[!,:PetalWidth]\n",
    "first(iris)"
   ]
  },
  {
   "cell_type": "markdown",
   "metadata": {
    "slideshow": {
     "slide_type": "slide"
    }
   },
   "source": [
    "## Sorting"
   ]
  },
  {
   "cell_type": "code",
   "execution_count": 45,
   "metadata": {},
   "outputs": [
    {
     "data": {
      "text/html": [
       "<table class=\"data-frame\"><thead><tr><th></th><th>SepalLength</th><th>SepalWidth</th><th>PetalLength</th><th>PetalWidth</th><th>Species</th><th>PetalArea</th></tr><tr><th></th><th>Float64</th><th>Float64</th><th>Float64</th><th>Float64</th><th>Cat…</th><th>Float64</th></tr></thead><tbody><p>10 rows × 6 columns</p><tr><th>1</th><td>4.3</td><td>3.0</td><td>1.1</td><td>0.1</td><td>setosa</td><td>0.11</td></tr><tr><th>2</th><td>4.4</td><td>2.9</td><td>1.4</td><td>0.2</td><td>setosa</td><td>0.28</td></tr><tr><th>3</th><td>4.4</td><td>3.0</td><td>1.3</td><td>0.2</td><td>setosa</td><td>0.26</td></tr><tr><th>4</th><td>4.4</td><td>3.2</td><td>1.3</td><td>0.2</td><td>setosa</td><td>0.26</td></tr><tr><th>5</th><td>4.5</td><td>2.3</td><td>1.3</td><td>0.3</td><td>setosa</td><td>0.39</td></tr><tr><th>6</th><td>4.6</td><td>3.1</td><td>1.5</td><td>0.2</td><td>setosa</td><td>0.3</td></tr><tr><th>7</th><td>4.6</td><td>3.4</td><td>1.4</td><td>0.3</td><td>setosa</td><td>0.42</td></tr><tr><th>8</th><td>4.6</td><td>3.6</td><td>1.0</td><td>0.2</td><td>setosa</td><td>0.2</td></tr><tr><th>9</th><td>4.6</td><td>3.2</td><td>1.4</td><td>0.2</td><td>setosa</td><td>0.28</td></tr><tr><th>10</th><td>4.7</td><td>3.2</td><td>1.3</td><td>0.2</td><td>setosa</td><td>0.26</td></tr></tbody></table>"
      ],
      "text/latex": [
       "\\begin{tabular}{r|cccccc}\n",
       "\t& SepalLength & SepalWidth & PetalLength & PetalWidth & Species & PetalArea\\\\\n",
       "\t\\hline\n",
       "\t& Float64 & Float64 & Float64 & Float64 & Cat… & Float64\\\\\n",
       "\t\\hline\n",
       "\t1 & 4.3 & 3.0 & 1.1 & 0.1 & setosa & 0.11 \\\\\n",
       "\t2 & 4.4 & 2.9 & 1.4 & 0.2 & setosa & 0.28 \\\\\n",
       "\t3 & 4.4 & 3.0 & 1.3 & 0.2 & setosa & 0.26 \\\\\n",
       "\t4 & 4.4 & 3.2 & 1.3 & 0.2 & setosa & 0.26 \\\\\n",
       "\t5 & 4.5 & 2.3 & 1.3 & 0.3 & setosa & 0.39 \\\\\n",
       "\t6 & 4.6 & 3.1 & 1.5 & 0.2 & setosa & 0.3 \\\\\n",
       "\t7 & 4.6 & 3.4 & 1.4 & 0.3 & setosa & 0.42 \\\\\n",
       "\t8 & 4.6 & 3.6 & 1.0 & 0.2 & setosa & 0.2 \\\\\n",
       "\t9 & 4.6 & 3.2 & 1.4 & 0.2 & setosa & 0.28 \\\\\n",
       "\t10 & 4.7 & 3.2 & 1.3 & 0.2 & setosa & 0.26 \\\\\n",
       "\\end{tabular}\n"
      ],
      "text/plain": [
       "10×6 DataFrame. Omitted printing of 1 columns\n",
       "│ Row │ SepalLength │ SepalWidth │ PetalLength │ PetalWidth │ Species │\n",
       "│     │ \u001b[90mFloat64\u001b[39m     │ \u001b[90mFloat64\u001b[39m    │ \u001b[90mFloat64\u001b[39m     │ \u001b[90mFloat64\u001b[39m    │ \u001b[90mCat…\u001b[39m    │\n",
       "├─────┼─────────────┼────────────┼─────────────┼────────────┼─────────┤\n",
       "│ 1   │ 4.3         │ 3.0        │ 1.1         │ 0.1        │ setosa  │\n",
       "│ 2   │ 4.4         │ 2.9        │ 1.4         │ 0.2        │ setosa  │\n",
       "│ 3   │ 4.4         │ 3.0        │ 1.3         │ 0.2        │ setosa  │\n",
       "│ 4   │ 4.4         │ 3.2        │ 1.3         │ 0.2        │ setosa  │\n",
       "│ 5   │ 4.5         │ 2.3        │ 1.3         │ 0.3        │ setosa  │\n",
       "│ 6   │ 4.6         │ 3.1        │ 1.5         │ 0.2        │ setosa  │\n",
       "│ 7   │ 4.6         │ 3.4        │ 1.4         │ 0.3        │ setosa  │\n",
       "│ 8   │ 4.6         │ 3.6        │ 1.0         │ 0.2        │ setosa  │\n",
       "│ 9   │ 4.6         │ 3.2        │ 1.4         │ 0.2        │ setosa  │\n",
       "│ 10  │ 4.7         │ 3.2        │ 1.3         │ 0.2        │ setosa  │"
      ]
     },
     "execution_count": 45,
     "metadata": {},
     "output_type": "execute_result"
    }
   ],
   "source": [
    "first(sort!(iris, :SepalLength), 10)"
   ]
  },
  {
   "cell_type": "markdown",
   "metadata": {
    "slideshow": {
     "slide_type": "slide"
    }
   },
   "source": [
    "## Sorting multiple columns and specify the order"
   ]
  },
  {
   "cell_type": "code",
   "execution_count": 46,
   "metadata": {},
   "outputs": [
    {
     "data": {
      "text/html": [
       "<table class=\"data-frame\"><thead><tr><th></th><th>SepalLength</th><th>SepalWidth</th><th>PetalLength</th><th>PetalWidth</th><th>Species</th><th>PetalArea</th></tr><tr><th></th><th>Float64</th><th>Float64</th><th>Float64</th><th>Float64</th><th>Cat…</th><th>Float64</th></tr></thead><tbody><p>10 rows × 6 columns</p><tr><th>1</th><td>4.9</td><td>2.5</td><td>4.5</td><td>1.7</td><td>virginica</td><td>7.65</td></tr><tr><th>2</th><td>5.6</td><td>2.8</td><td>4.9</td><td>2.0</td><td>virginica</td><td>9.8</td></tr><tr><th>3</th><td>5.7</td><td>2.5</td><td>5.0</td><td>2.0</td><td>virginica</td><td>10.0</td></tr><tr><th>4</th><td>5.8</td><td>2.7</td><td>5.1</td><td>1.9</td><td>virginica</td><td>9.69</td></tr><tr><th>5</th><td>5.8</td><td>2.7</td><td>5.1</td><td>1.9</td><td>virginica</td><td>9.69</td></tr><tr><th>6</th><td>5.8</td><td>2.8</td><td>5.1</td><td>2.4</td><td>virginica</td><td>12.24</td></tr><tr><th>7</th><td>5.9</td><td>3.0</td><td>5.1</td><td>1.8</td><td>virginica</td><td>9.18</td></tr><tr><th>8</th><td>6.0</td><td>2.2</td><td>5.0</td><td>1.5</td><td>virginica</td><td>7.5</td></tr><tr><th>9</th><td>6.0</td><td>3.0</td><td>4.8</td><td>1.8</td><td>virginica</td><td>8.64</td></tr><tr><th>10</th><td>6.1</td><td>2.6</td><td>5.6</td><td>1.4</td><td>virginica</td><td>7.84</td></tr></tbody></table>"
      ],
      "text/latex": [
       "\\begin{tabular}{r|cccccc}\n",
       "\t& SepalLength & SepalWidth & PetalLength & PetalWidth & Species & PetalArea\\\\\n",
       "\t\\hline\n",
       "\t& Float64 & Float64 & Float64 & Float64 & Cat… & Float64\\\\\n",
       "\t\\hline\n",
       "\t1 & 4.9 & 2.5 & 4.5 & 1.7 & virginica & 7.65 \\\\\n",
       "\t2 & 5.6 & 2.8 & 4.9 & 2.0 & virginica & 9.8 \\\\\n",
       "\t3 & 5.7 & 2.5 & 5.0 & 2.0 & virginica & 10.0 \\\\\n",
       "\t4 & 5.8 & 2.7 & 5.1 & 1.9 & virginica & 9.69 \\\\\n",
       "\t5 & 5.8 & 2.7 & 5.1 & 1.9 & virginica & 9.69 \\\\\n",
       "\t6 & 5.8 & 2.8 & 5.1 & 2.4 & virginica & 12.24 \\\\\n",
       "\t7 & 5.9 & 3.0 & 5.1 & 1.8 & virginica & 9.18 \\\\\n",
       "\t8 & 6.0 & 2.2 & 5.0 & 1.5 & virginica & 7.5 \\\\\n",
       "\t9 & 6.0 & 3.0 & 4.8 & 1.8 & virginica & 8.64 \\\\\n",
       "\t10 & 6.1 & 2.6 & 5.6 & 1.4 & virginica & 7.84 \\\\\n",
       "\\end{tabular}\n"
      ],
      "text/plain": [
       "10×6 DataFrame. Omitted printing of 1 columns\n",
       "│ Row │ SepalLength │ SepalWidth │ PetalLength │ PetalWidth │ Species   │\n",
       "│     │ \u001b[90mFloat64\u001b[39m     │ \u001b[90mFloat64\u001b[39m    │ \u001b[90mFloat64\u001b[39m     │ \u001b[90mFloat64\u001b[39m    │ \u001b[90mCat…\u001b[39m      │\n",
       "├─────┼─────────────┼────────────┼─────────────┼────────────┼───────────┤\n",
       "│ 1   │ 4.9         │ 2.5        │ 4.5         │ 1.7        │ virginica │\n",
       "│ 2   │ 5.6         │ 2.8        │ 4.9         │ 2.0        │ virginica │\n",
       "│ 3   │ 5.7         │ 2.5        │ 5.0         │ 2.0        │ virginica │\n",
       "│ 4   │ 5.8         │ 2.7        │ 5.1         │ 1.9        │ virginica │\n",
       "│ 5   │ 5.8         │ 2.7        │ 5.1         │ 1.9        │ virginica │\n",
       "│ 6   │ 5.8         │ 2.8        │ 5.1         │ 2.4        │ virginica │\n",
       "│ 7   │ 5.9         │ 3.0        │ 5.1         │ 1.8        │ virginica │\n",
       "│ 8   │ 6.0         │ 2.2        │ 5.0         │ 1.5        │ virginica │\n",
       "│ 9   │ 6.0         │ 3.0        │ 4.8         │ 1.8        │ virginica │\n",
       "│ 10  │ 6.1         │ 2.6        │ 5.6         │ 1.4        │ virginica │"
      ]
     },
     "execution_count": 46,
     "metadata": {},
     "output_type": "execute_result"
    }
   ],
   "source": [
    "first(sort!(iris, [:Species, :SepalLength, :SepalWidth], rev=[true, false, false]), 10)"
   ]
  },
  {
   "cell_type": "markdown",
   "metadata": {
    "slideshow": {
     "slide_type": "slide"
    }
   },
   "source": [
    "## Join"
   ]
  },
  {
   "cell_type": "code",
   "execution_count": 47,
   "metadata": {},
   "outputs": [
    {
     "data": {
      "text/html": [
       "<table class=\"data-frame\"><thead><tr><th></th><th>ID</th><th>Name</th></tr><tr><th></th><th>Int64</th><th>String</th></tr></thead><tbody><p>3 rows × 2 columns</p><tr><th>1</th><td>1</td><td>John Doe</td></tr><tr><th>2</th><td>2</td><td>Jane Doe</td></tr><tr><th>3</th><td>3</td><td>Andy Doe</td></tr></tbody></table>"
      ],
      "text/latex": [
       "\\begin{tabular}{r|cc}\n",
       "\t& ID & Name\\\\\n",
       "\t\\hline\n",
       "\t& Int64 & String\\\\\n",
       "\t\\hline\n",
       "\t1 & 1 & John Doe \\\\\n",
       "\t2 & 2 & Jane Doe \\\\\n",
       "\t3 & 3 & Andy Doe \\\\\n",
       "\\end{tabular}\n"
      ],
      "text/plain": [
       "3×2 DataFrame\n",
       "│ Row │ ID    │ Name     │\n",
       "│     │ \u001b[90mInt64\u001b[39m │ \u001b[90mString\u001b[39m   │\n",
       "├─────┼───────┼──────────┤\n",
       "│ 1   │ 1     │ John Doe │\n",
       "│ 2   │ 2     │ Jane Doe │\n",
       "│ 3   │ 3     │ Andy Doe │"
      ]
     },
     "execution_count": 47,
     "metadata": {},
     "output_type": "execute_result"
    }
   ],
   "source": [
    "employees = DataFrame(ID = [1, 2, 3], Name = [\"John Doe\", \"Jane Doe\", \"Andy Doe\"])"
   ]
  },
  {
   "cell_type": "code",
   "execution_count": 48,
   "metadata": {},
   "outputs": [
    {
     "data": {
      "text/html": [
       "<table class=\"data-frame\"><thead><tr><th></th><th>ID</th><th>Job</th></tr><tr><th></th><th>Int64</th><th>String</th></tr></thead><tbody><p>3 rows × 2 columns</p><tr><th>1</th><td>1</td><td>Lawyer</td></tr><tr><th>2</th><td>2</td><td>Doctor</td></tr><tr><th>3</th><td>4</td><td>Chief</td></tr></tbody></table>"
      ],
      "text/latex": [
       "\\begin{tabular}{r|cc}\n",
       "\t& ID & Job\\\\\n",
       "\t\\hline\n",
       "\t& Int64 & String\\\\\n",
       "\t\\hline\n",
       "\t1 & 1 & Lawyer \\\\\n",
       "\t2 & 2 & Doctor \\\\\n",
       "\t3 & 4 & Chief \\\\\n",
       "\\end{tabular}\n"
      ],
      "text/plain": [
       "3×2 DataFrame\n",
       "│ Row │ ID    │ Job    │\n",
       "│     │ \u001b[90mInt64\u001b[39m │ \u001b[90mString\u001b[39m │\n",
       "├─────┼───────┼────────┤\n",
       "│ 1   │ 1     │ Lawyer │\n",
       "│ 2   │ 2     │ Doctor │\n",
       "│ 3   │ 4     │ Chief  │"
      ]
     },
     "execution_count": 48,
     "metadata": {},
     "output_type": "execute_result"
    }
   ],
   "source": [
    "jobs = DataFrame(ID = [1, 2, 4], Job = [\"Lawyer\", \"Doctor\", \"Chief\"])"
   ]
  },
  {
   "cell_type": "markdown",
   "metadata": {
    "slideshow": {
     "slide_type": "slide"
    }
   },
   "source": [
    "## Inner join"
   ]
  },
  {
   "cell_type": "code",
   "execution_count": 49,
   "metadata": {},
   "outputs": [
    {
     "data": {
      "text/html": [
       "<table class=\"data-frame\"><thead><tr><th></th><th>ID</th><th>Name</th><th>Job</th></tr><tr><th></th><th>Int64</th><th>String</th><th>String</th></tr></thead><tbody><p>2 rows × 3 columns</p><tr><th>1</th><td>1</td><td>John Doe</td><td>Lawyer</td></tr><tr><th>2</th><td>2</td><td>Jane Doe</td><td>Doctor</td></tr></tbody></table>"
      ],
      "text/latex": [
       "\\begin{tabular}{r|ccc}\n",
       "\t& ID & Name & Job\\\\\n",
       "\t\\hline\n",
       "\t& Int64 & String & String\\\\\n",
       "\t\\hline\n",
       "\t1 & 1 & John Doe & Lawyer \\\\\n",
       "\t2 & 2 & Jane Doe & Doctor \\\\\n",
       "\\end{tabular}\n"
      ],
      "text/plain": [
       "2×3 DataFrame\n",
       "│ Row │ ID    │ Name     │ Job    │\n",
       "│     │ \u001b[90mInt64\u001b[39m │ \u001b[90mString\u001b[39m   │ \u001b[90mString\u001b[39m │\n",
       "├─────┼───────┼──────────┼────────┤\n",
       "│ 1   │ 1     │ John Doe │ Lawyer │\n",
       "│ 2   │ 2     │ Jane Doe │ Doctor │"
      ]
     },
     "execution_count": 49,
     "metadata": {},
     "output_type": "execute_result"
    }
   ],
   "source": [
    "full = innerjoin(employees, jobs, on=:ID)"
   ]
  },
  {
   "cell_type": "markdown",
   "metadata": {
    "slideshow": {
     "slide_type": "slide"
    }
   },
   "source": [
    "## Left join"
   ]
  },
  {
   "cell_type": "code",
   "execution_count": 50,
   "metadata": {},
   "outputs": [
    {
     "data": {
      "text/html": [
       "<table class=\"data-frame\"><thead><tr><th></th><th>ID</th><th>Name</th><th>Job</th></tr><tr><th></th><th>Int64</th><th>String</th><th>String?</th></tr></thead><tbody><p>3 rows × 3 columns</p><tr><th>1</th><td>1</td><td>John Doe</td><td>Lawyer</td></tr><tr><th>2</th><td>2</td><td>Jane Doe</td><td>Doctor</td></tr><tr><th>3</th><td>3</td><td>Andy Doe</td><td><em>missing</em></td></tr></tbody></table>"
      ],
      "text/latex": [
       "\\begin{tabular}{r|ccc}\n",
       "\t& ID & Name & Job\\\\\n",
       "\t\\hline\n",
       "\t& Int64 & String & String?\\\\\n",
       "\t\\hline\n",
       "\t1 & 1 & John Doe & Lawyer \\\\\n",
       "\t2 & 2 & Jane Doe & Doctor \\\\\n",
       "\t3 & 3 & Andy Doe & \\emph{missing} \\\\\n",
       "\\end{tabular}\n"
      ],
      "text/plain": [
       "3×3 DataFrame\n",
       "│ Row │ ID    │ Name     │ Job     │\n",
       "│     │ \u001b[90mInt64\u001b[39m │ \u001b[90mString\u001b[39m   │ \u001b[90mString?\u001b[39m │\n",
       "├─────┼───────┼──────────┼─────────┤\n",
       "│ 1   │ 1     │ John Doe │ Lawyer  │\n",
       "│ 2   │ 2     │ Jane Doe │ Doctor  │\n",
       "│ 3   │ 3     │ Andy Doe │ \u001b[90mmissing\u001b[39m │"
      ]
     },
     "execution_count": 50,
     "metadata": {},
     "output_type": "execute_result"
    }
   ],
   "source": [
    "left_join = leftjoin(employees, jobs, on=:ID)"
   ]
  },
  {
   "cell_type": "markdown",
   "metadata": {
    "slideshow": {
     "slide_type": "slide"
    }
   },
   "source": [
    "## Right join"
   ]
  },
  {
   "cell_type": "code",
   "execution_count": 51,
   "metadata": {},
   "outputs": [
    {
     "data": {
      "text/html": [
       "<table class=\"data-frame\"><thead><tr><th></th><th>ID</th><th>Name</th><th>Job</th></tr><tr><th></th><th>Int64</th><th>String?</th><th>String</th></tr></thead><tbody><p>3 rows × 3 columns</p><tr><th>1</th><td>1</td><td>John Doe</td><td>Lawyer</td></tr><tr><th>2</th><td>2</td><td>Jane Doe</td><td>Doctor</td></tr><tr><th>3</th><td>4</td><td><em>missing</em></td><td>Chief</td></tr></tbody></table>"
      ],
      "text/latex": [
       "\\begin{tabular}{r|ccc}\n",
       "\t& ID & Name & Job\\\\\n",
       "\t\\hline\n",
       "\t& Int64 & String? & String\\\\\n",
       "\t\\hline\n",
       "\t1 & 1 & John Doe & Lawyer \\\\\n",
       "\t2 & 2 & Jane Doe & Doctor \\\\\n",
       "\t3 & 4 & \\emph{missing} & Chief \\\\\n",
       "\\end{tabular}\n"
      ],
      "text/plain": [
       "3×3 DataFrame\n",
       "│ Row │ ID    │ Name     │ Job    │\n",
       "│     │ \u001b[90mInt64\u001b[39m │ \u001b[90mString?\u001b[39m  │ \u001b[90mString\u001b[39m │\n",
       "├─────┼───────┼──────────┼────────┤\n",
       "│ 1   │ 1     │ John Doe │ Lawyer │\n",
       "│ 2   │ 2     │ Jane Doe │ Doctor │\n",
       "│ 3   │ 4     │ \u001b[90mmissing\u001b[39m  │ Chief  │"
      ]
     },
     "execution_count": 51,
     "metadata": {},
     "output_type": "execute_result"
    }
   ],
   "source": [
    "right_join = rightjoin(employees, jobs, on=:ID)"
   ]
  },
  {
   "cell_type": "markdown",
   "metadata": {
    "slideshow": {
     "slide_type": "slide"
    }
   },
   "source": [
    "## Outer join"
   ]
  },
  {
   "cell_type": "code",
   "execution_count": 52,
   "metadata": {},
   "outputs": [
    {
     "data": {
      "text/html": [
       "<table class=\"data-frame\"><thead><tr><th></th><th>ID</th><th>Name</th><th>Job</th></tr><tr><th></th><th>Int64</th><th>String?</th><th>String?</th></tr></thead><tbody><p>4 rows × 3 columns</p><tr><th>1</th><td>1</td><td>John Doe</td><td>Lawyer</td></tr><tr><th>2</th><td>2</td><td>Jane Doe</td><td>Doctor</td></tr><tr><th>3</th><td>3</td><td>Andy Doe</td><td><em>missing</em></td></tr><tr><th>4</th><td>4</td><td><em>missing</em></td><td>Chief</td></tr></tbody></table>"
      ],
      "text/latex": [
       "\\begin{tabular}{r|ccc}\n",
       "\t& ID & Name & Job\\\\\n",
       "\t\\hline\n",
       "\t& Int64 & String? & String?\\\\\n",
       "\t\\hline\n",
       "\t1 & 1 & John Doe & Lawyer \\\\\n",
       "\t2 & 2 & Jane Doe & Doctor \\\\\n",
       "\t3 & 3 & Andy Doe & \\emph{missing} \\\\\n",
       "\t4 & 4 & \\emph{missing} & Chief \\\\\n",
       "\\end{tabular}\n"
      ],
      "text/plain": [
       "4×3 DataFrame\n",
       "│ Row │ ID    │ Name     │ Job     │\n",
       "│     │ \u001b[90mInt64\u001b[39m │ \u001b[90mString?\u001b[39m  │ \u001b[90mString?\u001b[39m │\n",
       "├─────┼───────┼──────────┼─────────┤\n",
       "│ 1   │ 1     │ John Doe │ Lawyer  │\n",
       "│ 2   │ 2     │ Jane Doe │ Doctor  │\n",
       "│ 3   │ 3     │ Andy Doe │ \u001b[90mmissing\u001b[39m │\n",
       "│ 4   │ 4     │ \u001b[90mmissing\u001b[39m  │ Chief   │"
      ]
     },
     "execution_count": 52,
     "metadata": {},
     "output_type": "execute_result"
    }
   ],
   "source": [
    "outer_join = outerjoin(employees, jobs, on=:ID)"
   ]
  },
  {
   "cell_type": "markdown",
   "metadata": {
    "slideshow": {
     "slide_type": "slide"
    }
   },
   "source": [
    "## Other join\n",
    "\n",
    "* Semi join: similar to inner join，but only outputs left table\n",
    "* Anti join\n",
    "* Cross join: Cartesian product"
   ]
  },
  {
   "cell_type": "code",
   "execution_count": 53,
   "metadata": {},
   "outputs": [
    {
     "data": {
      "text/html": [
       "<table class=\"data-frame\"><thead><tr><th></th><th>ID</th><th>Name</th><th>ID_1</th><th>Job</th></tr><tr><th></th><th>Int64</th><th>String</th><th>Int64</th><th>String</th></tr></thead><tbody><p>9 rows × 4 columns</p><tr><th>1</th><td>1</td><td>John Doe</td><td>1</td><td>Lawyer</td></tr><tr><th>2</th><td>1</td><td>John Doe</td><td>2</td><td>Doctor</td></tr><tr><th>3</th><td>1</td><td>John Doe</td><td>4</td><td>Chief</td></tr><tr><th>4</th><td>2</td><td>Jane Doe</td><td>1</td><td>Lawyer</td></tr><tr><th>5</th><td>2</td><td>Jane Doe</td><td>2</td><td>Doctor</td></tr><tr><th>6</th><td>2</td><td>Jane Doe</td><td>4</td><td>Chief</td></tr><tr><th>7</th><td>3</td><td>Andy Doe</td><td>1</td><td>Lawyer</td></tr><tr><th>8</th><td>3</td><td>Andy Doe</td><td>2</td><td>Doctor</td></tr><tr><th>9</th><td>3</td><td>Andy Doe</td><td>4</td><td>Chief</td></tr></tbody></table>"
      ],
      "text/latex": [
       "\\begin{tabular}{r|cccc}\n",
       "\t& ID & Name & ID\\_1 & Job\\\\\n",
       "\t\\hline\n",
       "\t& Int64 & String & Int64 & String\\\\\n",
       "\t\\hline\n",
       "\t1 & 1 & John Doe & 1 & Lawyer \\\\\n",
       "\t2 & 1 & John Doe & 2 & Doctor \\\\\n",
       "\t3 & 1 & John Doe & 4 & Chief \\\\\n",
       "\t4 & 2 & Jane Doe & 1 & Lawyer \\\\\n",
       "\t5 & 2 & Jane Doe & 2 & Doctor \\\\\n",
       "\t6 & 2 & Jane Doe & 4 & Chief \\\\\n",
       "\t7 & 3 & Andy Doe & 1 & Lawyer \\\\\n",
       "\t8 & 3 & Andy Doe & 2 & Doctor \\\\\n",
       "\t9 & 3 & Andy Doe & 4 & Chief \\\\\n",
       "\\end{tabular}\n"
      ],
      "text/plain": [
       "9×4 DataFrame\n",
       "│ Row │ ID    │ Name     │ ID_1  │ Job    │\n",
       "│     │ \u001b[90mInt64\u001b[39m │ \u001b[90mString\u001b[39m   │ \u001b[90mInt64\u001b[39m │ \u001b[90mString\u001b[39m │\n",
       "├─────┼───────┼──────────┼───────┼────────┤\n",
       "│ 1   │ 1     │ John Doe │ 1     │ Lawyer │\n",
       "│ 2   │ 1     │ John Doe │ 2     │ Doctor │\n",
       "│ 3   │ 1     │ John Doe │ 4     │ Chief  │\n",
       "│ 4   │ 2     │ Jane Doe │ 1     │ Lawyer │\n",
       "│ 5   │ 2     │ Jane Doe │ 2     │ Doctor │\n",
       "│ 6   │ 2     │ Jane Doe │ 4     │ Chief  │\n",
       "│ 7   │ 3     │ Andy Doe │ 1     │ Lawyer │\n",
       "│ 8   │ 3     │ Andy Doe │ 2     │ Doctor │\n",
       "│ 9   │ 3     │ Andy Doe │ 4     │ Chief  │"
      ]
     },
     "execution_count": 53,
     "metadata": {},
     "output_type": "execute_result"
    }
   ],
   "source": [
    "cross_join = crossjoin(employees, jobs, makeunique=true)  # 不需要key"
   ]
  },
  {
   "cell_type": "markdown",
   "metadata": {
    "slideshow": {
     "slide_type": "slide"
    }
   },
   "source": [
    "## Split-Apply-Combine Strategy"
   ]
  },
  {
   "cell_type": "markdown",
   "metadata": {},
   "source": [
    "<img src=\"pics/split-apply-combine.png\">\n",
    "\n",
    "> https://cities.github.io/datascience2018/11-split-apply-combine.html"
   ]
  },
  {
   "cell_type": "markdown",
   "metadata": {
    "slideshow": {
     "slide_type": "slide"
    }
   },
   "source": [
    "## Split by `:Species`, calculate `size()`\n",
    "\n",
    "#### arguments\n",
    "\n",
    "1. DataFrame\n",
    "2. The column which you like to split\n",
    "3. The function or expression to apply to each group of data"
   ]
  },
  {
   "cell_type": "code",
   "execution_count": 54,
   "metadata": {},
   "outputs": [
    {
     "name": "stderr",
     "output_type": "stream",
     "text": [
      "┌ Warning: `by(d::AbstractDataFrame, cols::Any, f::Base.Callable; sort::Bool = false, skipmissing::Bool = false)` is deprecated, use `combine(f, groupby(d, cols, sort = sort, skipmissing = skipmissing))` instead.\n",
      "│   caller = top-level scope at In[54]:1\n",
      "└ @ Core In[54]:1\n"
     ]
    },
    {
     "data": {
      "text/html": [
       "<table class=\"data-frame\"><thead><tr><th></th><th>Species</th><th>x1</th></tr><tr><th></th><th>Cat…</th><th>Tuple…</th></tr></thead><tbody><p>3 rows × 2 columns</p><tr><th>1</th><td>setosa</td><td>(50, 6)</td></tr><tr><th>2</th><td>versicolor</td><td>(50, 6)</td></tr><tr><th>3</th><td>virginica</td><td>(50, 6)</td></tr></tbody></table>"
      ],
      "text/latex": [
       "\\begin{tabular}{r|cc}\n",
       "\t& Species & x1\\\\\n",
       "\t\\hline\n",
       "\t& Cat… & Tuple…\\\\\n",
       "\t\\hline\n",
       "\t1 & setosa & (50, 6) \\\\\n",
       "\t2 & versicolor & (50, 6) \\\\\n",
       "\t3 & virginica & (50, 6) \\\\\n",
       "\\end{tabular}\n"
      ],
      "text/plain": [
       "3×2 DataFrame\n",
       "│ Row │ Species    │ x1      │\n",
       "│     │ \u001b[90mCat…\u001b[39m       │ \u001b[90mTuple…\u001b[39m  │\n",
       "├─────┼────────────┼─────────┤\n",
       "│ 1   │ setosa     │ (50, 6) │\n",
       "│ 2   │ versicolor │ (50, 6) │\n",
       "│ 3   │ virginica  │ (50, 6) │"
      ]
     },
     "execution_count": 54,
     "metadata": {},
     "output_type": "execute_result"
    }
   ],
   "source": [
    "by(iris, :Species, size)"
   ]
  },
  {
   "cell_type": "markdown",
   "metadata": {
    "slideshow": {
     "slide_type": "slide"
    }
   },
   "source": [
    "## More complex situation"
   ]
  },
  {
   "cell_type": "code",
   "execution_count": 55,
   "metadata": {},
   "outputs": [
    {
     "name": "stderr",
     "output_type": "stream",
     "text": [
      "┌ Warning: `by(f::Base.Callable, d::AbstractDataFrame, cols::Any; sort::Bool = false, skipmissing::Bool = false)` is deprecated, use `combine(f, groupby(d, cols, sort = sort, skipmissing = skipmissing))` instead.\n",
      "│   caller = top-level scope at In[55]:1\n",
      "└ @ Core In[55]:1\n"
     ]
    },
    {
     "data": {
      "text/html": [
       "<table class=\"data-frame\"><thead><tr><th></th><th>Species</th><th>μ</th><th>σ</th></tr><tr><th></th><th>Cat…</th><th>Float64</th><th>Float64</th></tr></thead><tbody><p>3 rows × 3 columns</p><tr><th>1</th><td>setosa</td><td>1.462</td><td>0.0301592</td></tr><tr><th>2</th><td>versicolor</td><td>4.26</td><td>0.220816</td></tr><tr><th>3</th><td>virginica</td><td>5.552</td><td>0.304588</td></tr></tbody></table>"
      ],
      "text/latex": [
       "\\begin{tabular}{r|ccc}\n",
       "\t& Species & μ & σ\\\\\n",
       "\t\\hline\n",
       "\t& Cat… & Float64 & Float64\\\\\n",
       "\t\\hline\n",
       "\t1 & setosa & 1.462 & 0.0301592 \\\\\n",
       "\t2 & versicolor & 4.26 & 0.220816 \\\\\n",
       "\t3 & virginica & 5.552 & 0.304588 \\\\\n",
       "\\end{tabular}\n"
      ],
      "text/plain": [
       "3×3 DataFrame\n",
       "│ Row │ Species    │ μ       │ σ         │\n",
       "│     │ \u001b[90mCat…\u001b[39m       │ \u001b[90mFloat64\u001b[39m │ \u001b[90mFloat64\u001b[39m   │\n",
       "├─────┼────────────┼─────────┼───────────┤\n",
       "│ 1   │ setosa     │ 1.462   │ 0.0301592 │\n",
       "│ 2   │ versicolor │ 4.26    │ 0.220816  │\n",
       "│ 3   │ virginica  │ 5.552   │ 0.304588  │"
      ]
     },
     "execution_count": 55,
     "metadata": {},
     "output_type": "execute_result"
    }
   ],
   "source": [
    "by(iris, :Species) do df\n",
    "    DataFrame(μ = mean(df[!,:PetalLength]), σ = var(df[!,:PetalLength]))\n",
    "end"
   ]
  },
  {
   "cell_type": "markdown",
   "metadata": {
    "slideshow": {
     "slide_type": "slide"
    }
   },
   "source": [
    "## Group by `:Species`, calculate sum and average\n",
    "\n",
    "#### arguments\n",
    "\n",
    "1. DataFrame\n",
    "2. The column which you like to split\n",
    "3. The function or expression to apply to each group of data"
   ]
  },
  {
   "cell_type": "code",
   "execution_count": 56,
   "metadata": {},
   "outputs": [
    {
     "name": "stderr",
     "output_type": "stream",
     "text": [
      "┌ Warning: `aggregate(d, cols, fs, sort=false, skipmissing=false)`  is deprecated. Instead use combine(groupby(d, cols, sort=false, skipmissing=false), [names(d, Not(cols)) .=> f for f in fs]...)` if functions in `fs` have unique names.\n",
      "│   caller = top-level scope at In[56]:1\n",
      "└ @ Core In[56]:1\n"
     ]
    },
    {
     "data": {
      "text/html": [
       "<table class=\"data-frame\"><thead><tr><th></th><th>Species</th><th>SepalLength_sum</th><th>SepalWidth_sum</th><th>PetalLength_sum</th><th>PetalWidth_sum</th><th>PetalArea_sum</th></tr><tr><th></th><th>Cat…</th><th>Float64</th><th>Float64</th><th>Float64</th><th>Float64</th><th>Float64</th></tr></thead><tbody><p>3 rows × 11 columns (omitted printing of 5 columns)</p><tr><th>1</th><td>setosa</td><td>250.3</td><td>171.4</td><td>73.1</td><td>12.3</td><td>18.28</td></tr><tr><th>2</th><td>versicolor</td><td>296.8</td><td>138.5</td><td>213.0</td><td>66.3</td><td>286.02</td></tr><tr><th>3</th><td>virginica</td><td>329.4</td><td>148.7</td><td>277.6</td><td>101.3</td><td>564.81</td></tr></tbody></table>"
      ],
      "text/latex": [
       "\\begin{tabular}{r|ccccccc}\n",
       "\t& Species & SepalLength\\_sum & SepalWidth\\_sum & PetalLength\\_sum & PetalWidth\\_sum & PetalArea\\_sum & \\\\\n",
       "\t\\hline\n",
       "\t& Cat… & Float64 & Float64 & Float64 & Float64 & Float64 & \\\\\n",
       "\t\\hline\n",
       "\t1 & setosa & 250.3 & 171.4 & 73.1 & 12.3 & 18.28 & $\\dots$ \\\\\n",
       "\t2 & versicolor & 296.8 & 138.5 & 213.0 & 66.3 & 286.02 & $\\dots$ \\\\\n",
       "\t3 & virginica & 329.4 & 148.7 & 277.6 & 101.3 & 564.81 & $\\dots$ \\\\\n",
       "\\end{tabular}\n"
      ],
      "text/plain": [
       "3×11 DataFrame. Omitted printing of 7 columns\n",
       "│ Row │ Species    │ SepalLength_sum │ SepalWidth_sum │ PetalLength_sum │\n",
       "│     │ \u001b[90mCat…\u001b[39m       │ \u001b[90mFloat64\u001b[39m         │ \u001b[90mFloat64\u001b[39m        │ \u001b[90mFloat64\u001b[39m         │\n",
       "├─────┼────────────┼─────────────────┼────────────────┼─────────────────┤\n",
       "│ 1   │ setosa     │ 250.3           │ 171.4          │ 73.1            │\n",
       "│ 2   │ versicolor │ 296.8           │ 138.5          │ 213.0           │\n",
       "│ 3   │ virginica  │ 329.4           │ 148.7          │ 277.6           │"
      ]
     },
     "execution_count": 56,
     "metadata": {},
     "output_type": "execute_result"
    }
   ],
   "source": [
    "aggregate(iris, :Species, [sum, mean])"
   ]
  },
  {
   "cell_type": "markdown",
   "metadata": {
    "slideshow": {
     "slide_type": "slide"
    }
   },
   "source": [
    "## Group by"
   ]
  },
  {
   "cell_type": "code",
   "execution_count": 57,
   "metadata": {},
   "outputs": [
    {
     "name": "stdout",
     "output_type": "stream",
     "text": [
      "50\n",
      "50\n",
      "50\n"
     ]
    }
   ],
   "source": [
    "for subdf in groupby(iris, :Species)\n",
    "    println(size(subdf, 1))\n",
    "end"
   ]
  },
  {
   "cell_type": "markdown",
   "metadata": {
    "slideshow": {
     "slide_type": "slide"
    }
   },
   "source": [
    "## Group by and combine"
   ]
  },
  {
   "cell_type": "code",
   "execution_count": 58,
   "metadata": {},
   "outputs": [
    {
     "data": {
      "text/html": [
       "<p><b>GroupedDataFrame with 3 groups based on key: Species</b></p><p><i>First Group (50 rows): Species = \"setosa\"</i></p><table class=\"data-frame\"><thead><tr><th></th><th>SepalLength</th><th>SepalWidth</th><th>PetalLength</th><th>PetalWidth</th><th>Species</th><th>PetalArea</th></tr><tr><th></th><th>Float64</th><th>Float64</th><th>Float64</th><th>Float64</th><th>Cat…</th><th>Float64</th></tr></thead><tbody><tr><th>1</th><td>4.3</td><td>3.0</td><td>1.1</td><td>0.1</td><td>setosa</td><td>0.11</td></tr><tr><th>2</th><td>4.4</td><td>2.9</td><td>1.4</td><td>0.2</td><td>setosa</td><td>0.28</td></tr><tr><th>3</th><td>4.4</td><td>3.0</td><td>1.3</td><td>0.2</td><td>setosa</td><td>0.26</td></tr><tr><th>4</th><td>4.4</td><td>3.2</td><td>1.3</td><td>0.2</td><td>setosa</td><td>0.26</td></tr><tr><th>5</th><td>4.5</td><td>2.3</td><td>1.3</td><td>0.3</td><td>setosa</td><td>0.39</td></tr><tr><th>6</th><td>4.6</td><td>3.1</td><td>1.5</td><td>0.2</td><td>setosa</td><td>0.3</td></tr><tr><th>7</th><td>4.6</td><td>3.2</td><td>1.4</td><td>0.2</td><td>setosa</td><td>0.28</td></tr><tr><th>8</th><td>4.6</td><td>3.4</td><td>1.4</td><td>0.3</td><td>setosa</td><td>0.42</td></tr><tr><th>9</th><td>4.6</td><td>3.6</td><td>1.0</td><td>0.2</td><td>setosa</td><td>0.2</td></tr><tr><th>10</th><td>4.7</td><td>3.2</td><td>1.3</td><td>0.2</td><td>setosa</td><td>0.26</td></tr><tr><th>11</th><td>4.7</td><td>3.2</td><td>1.6</td><td>0.2</td><td>setosa</td><td>0.32</td></tr><tr><th>12</th><td>4.8</td><td>3.0</td><td>1.4</td><td>0.1</td><td>setosa</td><td>0.14</td></tr><tr><th>13</th><td>4.8</td><td>3.0</td><td>1.4</td><td>0.3</td><td>setosa</td><td>0.42</td></tr><tr><th>14</th><td>4.8</td><td>3.1</td><td>1.6</td><td>0.2</td><td>setosa</td><td>0.32</td></tr><tr><th>15</th><td>4.8</td><td>3.4</td><td>1.6</td><td>0.2</td><td>setosa</td><td>0.32</td></tr><tr><th>16</th><td>4.8</td><td>3.4</td><td>1.9</td><td>0.2</td><td>setosa</td><td>0.38</td></tr><tr><th>17</th><td>4.9</td><td>3.0</td><td>1.4</td><td>0.2</td><td>setosa</td><td>0.28</td></tr><tr><th>18</th><td>4.9</td><td>3.1</td><td>1.5</td><td>0.1</td><td>setosa</td><td>0.15</td></tr><tr><th>19</th><td>4.9</td><td>3.1</td><td>1.5</td><td>0.2</td><td>setosa</td><td>0.3</td></tr><tr><th>20</th><td>4.9</td><td>3.6</td><td>1.4</td><td>0.1</td><td>setosa</td><td>0.14</td></tr><tr><th>21</th><td>5.0</td><td>3.0</td><td>1.6</td><td>0.2</td><td>setosa</td><td>0.32</td></tr><tr><th>22</th><td>5.0</td><td>3.2</td><td>1.2</td><td>0.2</td><td>setosa</td><td>0.24</td></tr><tr><th>23</th><td>5.0</td><td>3.3</td><td>1.4</td><td>0.2</td><td>setosa</td><td>0.28</td></tr><tr><th>24</th><td>5.0</td><td>3.4</td><td>1.5</td><td>0.2</td><td>setosa</td><td>0.3</td></tr><tr><th>25</th><td>5.0</td><td>3.4</td><td>1.6</td><td>0.4</td><td>setosa</td><td>0.64</td></tr><tr><th>26</th><td>5.0</td><td>3.5</td><td>1.3</td><td>0.3</td><td>setosa</td><td>0.39</td></tr><tr><th>27</th><td>5.0</td><td>3.5</td><td>1.6</td><td>0.6</td><td>setosa</td><td>0.96</td></tr><tr><th>28</th><td>5.0</td><td>3.6</td><td>1.4</td><td>0.2</td><td>setosa</td><td>0.28</td></tr><tr><th>29</th><td>5.1</td><td>3.3</td><td>1.7</td><td>0.5</td><td>setosa</td><td>0.85</td></tr><tr><th>30</th><td>5.1</td><td>3.4</td><td>1.5</td><td>0.2</td><td>setosa</td><td>0.3</td></tr><tr><th>&vellip;</th><td>&vellip;</td><td>&vellip;</td><td>&vellip;</td><td>&vellip;</td><td>&vellip;</td><td>&vellip;</td></tr></tbody></table><p>&vellip;</p><p><i>Last Group (50 rows): Species = \"virginica\"</i></p><table class=\"data-frame\"><thead><tr><th></th><th>SepalLength</th><th>SepalWidth</th><th>PetalLength</th><th>PetalWidth</th><th>Species</th><th>PetalArea</th></tr><tr><th></th><th>Float64</th><th>Float64</th><th>Float64</th><th>Float64</th><th>Cat…</th><th>Float64</th></tr></thead><tbody><tr><th>1</th><td>4.9</td><td>2.5</td><td>4.5</td><td>1.7</td><td>virginica</td><td>7.65</td></tr><tr><th>2</th><td>5.6</td><td>2.8</td><td>4.9</td><td>2.0</td><td>virginica</td><td>9.8</td></tr><tr><th>3</th><td>5.7</td><td>2.5</td><td>5.0</td><td>2.0</td><td>virginica</td><td>10.0</td></tr><tr><th>4</th><td>5.8</td><td>2.7</td><td>5.1</td><td>1.9</td><td>virginica</td><td>9.69</td></tr><tr><th>5</th><td>5.8</td><td>2.7</td><td>5.1</td><td>1.9</td><td>virginica</td><td>9.69</td></tr><tr><th>6</th><td>5.8</td><td>2.8</td><td>5.1</td><td>2.4</td><td>virginica</td><td>12.24</td></tr><tr><th>7</th><td>5.9</td><td>3.0</td><td>5.1</td><td>1.8</td><td>virginica</td><td>9.18</td></tr><tr><th>8</th><td>6.0</td><td>2.2</td><td>5.0</td><td>1.5</td><td>virginica</td><td>7.5</td></tr><tr><th>9</th><td>6.0</td><td>3.0</td><td>4.8</td><td>1.8</td><td>virginica</td><td>8.64</td></tr><tr><th>10</th><td>6.1</td><td>2.6</td><td>5.6</td><td>1.4</td><td>virginica</td><td>7.84</td></tr><tr><th>11</th><td>6.1</td><td>3.0</td><td>4.9</td><td>1.8</td><td>virginica</td><td>8.82</td></tr><tr><th>12</th><td>6.2</td><td>2.8</td><td>4.8</td><td>1.8</td><td>virginica</td><td>8.64</td></tr><tr><th>13</th><td>6.2</td><td>3.4</td><td>5.4</td><td>2.3</td><td>virginica</td><td>12.42</td></tr><tr><th>14</th><td>6.3</td><td>2.5</td><td>5.0</td><td>1.9</td><td>virginica</td><td>9.5</td></tr><tr><th>15</th><td>6.3</td><td>2.7</td><td>4.9</td><td>1.8</td><td>virginica</td><td>8.82</td></tr><tr><th>16</th><td>6.3</td><td>2.8</td><td>5.1</td><td>1.5</td><td>virginica</td><td>7.65</td></tr><tr><th>17</th><td>6.3</td><td>2.9</td><td>5.6</td><td>1.8</td><td>virginica</td><td>10.08</td></tr><tr><th>18</th><td>6.3</td><td>3.3</td><td>6.0</td><td>2.5</td><td>virginica</td><td>15.0</td></tr><tr><th>19</th><td>6.3</td><td>3.4</td><td>5.6</td><td>2.4</td><td>virginica</td><td>13.44</td></tr><tr><th>20</th><td>6.4</td><td>2.7</td><td>5.3</td><td>1.9</td><td>virginica</td><td>10.07</td></tr><tr><th>21</th><td>6.4</td><td>2.8</td><td>5.6</td><td>2.1</td><td>virginica</td><td>11.76</td></tr><tr><th>22</th><td>6.4</td><td>2.8</td><td>5.6</td><td>2.2</td><td>virginica</td><td>12.32</td></tr><tr><th>23</th><td>6.4</td><td>3.1</td><td>5.5</td><td>1.8</td><td>virginica</td><td>9.9</td></tr><tr><th>24</th><td>6.4</td><td>3.2</td><td>5.3</td><td>2.3</td><td>virginica</td><td>12.19</td></tr><tr><th>25</th><td>6.5</td><td>3.0</td><td>5.8</td><td>2.2</td><td>virginica</td><td>12.76</td></tr><tr><th>26</th><td>6.5</td><td>3.0</td><td>5.5</td><td>1.8</td><td>virginica</td><td>9.9</td></tr><tr><th>27</th><td>6.5</td><td>3.0</td><td>5.2</td><td>2.0</td><td>virginica</td><td>10.4</td></tr><tr><th>28</th><td>6.5</td><td>3.2</td><td>5.1</td><td>2.0</td><td>virginica</td><td>10.2</td></tr><tr><th>29</th><td>6.7</td><td>2.5</td><td>5.8</td><td>1.8</td><td>virginica</td><td>10.44</td></tr><tr><th>30</th><td>6.7</td><td>3.0</td><td>5.2</td><td>2.3</td><td>virginica</td><td>11.96</td></tr><tr><th>&vellip;</th><td>&vellip;</td><td>&vellip;</td><td>&vellip;</td><td>&vellip;</td><td>&vellip;</td><td>&vellip;</td></tr></tbody></table>"
      ],
      "text/latex": [
       "GroupedDataFrame with 3 groups based on key: Species\n",
       "\n",
       "First Group (50 rows): Species = \"setosa\"\n",
       "\n",
       "\\begin{tabular}{r|cccccc}\n",
       "\t& SepalLength & SepalWidth & PetalLength & PetalWidth & Species & PetalArea\\\\\n",
       "\t\\hline\n",
       "\t& Float64 & Float64 & Float64 & Float64 & Cat… & Float64\\\\\n",
       "\t\\hline\n",
       "\t1 & 4.3 & 3.0 & 1.1 & 0.1 & setosa & 0.11 \\\\\n",
       "\t2 & 4.4 & 2.9 & 1.4 & 0.2 & setosa & 0.28 \\\\\n",
       "\t3 & 4.4 & 3.0 & 1.3 & 0.2 & setosa & 0.26 \\\\\n",
       "\t4 & 4.4 & 3.2 & 1.3 & 0.2 & setosa & 0.26 \\\\\n",
       "\t5 & 4.5 & 2.3 & 1.3 & 0.3 & setosa & 0.39 \\\\\n",
       "\t6 & 4.6 & 3.1 & 1.5 & 0.2 & setosa & 0.3 \\\\\n",
       "\t7 & 4.6 & 3.2 & 1.4 & 0.2 & setosa & 0.28 \\\\\n",
       "\t8 & 4.6 & 3.4 & 1.4 & 0.3 & setosa & 0.42 \\\\\n",
       "\t9 & 4.6 & 3.6 & 1.0 & 0.2 & setosa & 0.2 \\\\\n",
       "\t10 & 4.7 & 3.2 & 1.3 & 0.2 & setosa & 0.26 \\\\\n",
       "\t11 & 4.7 & 3.2 & 1.6 & 0.2 & setosa & 0.32 \\\\\n",
       "\t12 & 4.8 & 3.0 & 1.4 & 0.1 & setosa & 0.14 \\\\\n",
       "\t13 & 4.8 & 3.0 & 1.4 & 0.3 & setosa & 0.42 \\\\\n",
       "\t14 & 4.8 & 3.1 & 1.6 & 0.2 & setosa & 0.32 \\\\\n",
       "\t15 & 4.8 & 3.4 & 1.6 & 0.2 & setosa & 0.32 \\\\\n",
       "\t16 & 4.8 & 3.4 & 1.9 & 0.2 & setosa & 0.38 \\\\\n",
       "\t17 & 4.9 & 3.0 & 1.4 & 0.2 & setosa & 0.28 \\\\\n",
       "\t18 & 4.9 & 3.1 & 1.5 & 0.1 & setosa & 0.15 \\\\\n",
       "\t19 & 4.9 & 3.1 & 1.5 & 0.2 & setosa & 0.3 \\\\\n",
       "\t20 & 4.9 & 3.6 & 1.4 & 0.1 & setosa & 0.14 \\\\\n",
       "\t21 & 5.0 & 3.0 & 1.6 & 0.2 & setosa & 0.32 \\\\\n",
       "\t22 & 5.0 & 3.2 & 1.2 & 0.2 & setosa & 0.24 \\\\\n",
       "\t23 & 5.0 & 3.3 & 1.4 & 0.2 & setosa & 0.28 \\\\\n",
       "\t24 & 5.0 & 3.4 & 1.5 & 0.2 & setosa & 0.3 \\\\\n",
       "\t25 & 5.0 & 3.4 & 1.6 & 0.4 & setosa & 0.64 \\\\\n",
       "\t26 & 5.0 & 3.5 & 1.3 & 0.3 & setosa & 0.39 \\\\\n",
       "\t27 & 5.0 & 3.5 & 1.6 & 0.6 & setosa & 0.96 \\\\\n",
       "\t28 & 5.0 & 3.6 & 1.4 & 0.2 & setosa & 0.28 \\\\\n",
       "\t29 & 5.1 & 3.3 & 1.7 & 0.5 & setosa & 0.85 \\\\\n",
       "\t30 & 5.1 & 3.4 & 1.5 & 0.2 & setosa & 0.3 \\\\\n",
       "\t$\\dots$ & $\\dots$ & $\\dots$ & $\\dots$ & $\\dots$ & $\\dots$ & $\\dots$ \\\\\n",
       "\\end{tabular}\n",
       "\n",
       "$\\dots$\n",
       "\n",
       "Last Group (50 rows): Species = \"virginica\"\n",
       "\n",
       "\\begin{tabular}{r|cccccc}\n",
       "\t& SepalLength & SepalWidth & PetalLength & PetalWidth & Species & PetalArea\\\\\n",
       "\t\\hline\n",
       "\t& Float64 & Float64 & Float64 & Float64 & Cat… & Float64\\\\\n",
       "\t\\hline\n",
       "\t1 & 4.9 & 2.5 & 4.5 & 1.7 & virginica & 7.65 \\\\\n",
       "\t2 & 5.6 & 2.8 & 4.9 & 2.0 & virginica & 9.8 \\\\\n",
       "\t3 & 5.7 & 2.5 & 5.0 & 2.0 & virginica & 10.0 \\\\\n",
       "\t4 & 5.8 & 2.7 & 5.1 & 1.9 & virginica & 9.69 \\\\\n",
       "\t5 & 5.8 & 2.7 & 5.1 & 1.9 & virginica & 9.69 \\\\\n",
       "\t6 & 5.8 & 2.8 & 5.1 & 2.4 & virginica & 12.24 \\\\\n",
       "\t7 & 5.9 & 3.0 & 5.1 & 1.8 & virginica & 9.18 \\\\\n",
       "\t8 & 6.0 & 2.2 & 5.0 & 1.5 & virginica & 7.5 \\\\\n",
       "\t9 & 6.0 & 3.0 & 4.8 & 1.8 & virginica & 8.64 \\\\\n",
       "\t10 & 6.1 & 2.6 & 5.6 & 1.4 & virginica & 7.84 \\\\\n",
       "\t11 & 6.1 & 3.0 & 4.9 & 1.8 & virginica & 8.82 \\\\\n",
       "\t12 & 6.2 & 2.8 & 4.8 & 1.8 & virginica & 8.64 \\\\\n",
       "\t13 & 6.2 & 3.4 & 5.4 & 2.3 & virginica & 12.42 \\\\\n",
       "\t14 & 6.3 & 2.5 & 5.0 & 1.9 & virginica & 9.5 \\\\\n",
       "\t15 & 6.3 & 2.7 & 4.9 & 1.8 & virginica & 8.82 \\\\\n",
       "\t16 & 6.3 & 2.8 & 5.1 & 1.5 & virginica & 7.65 \\\\\n",
       "\t17 & 6.3 & 2.9 & 5.6 & 1.8 & virginica & 10.08 \\\\\n",
       "\t18 & 6.3 & 3.3 & 6.0 & 2.5 & virginica & 15.0 \\\\\n",
       "\t19 & 6.3 & 3.4 & 5.6 & 2.4 & virginica & 13.44 \\\\\n",
       "\t20 & 6.4 & 2.7 & 5.3 & 1.9 & virginica & 10.07 \\\\\n",
       "\t21 & 6.4 & 2.8 & 5.6 & 2.1 & virginica & 11.76 \\\\\n",
       "\t22 & 6.4 & 2.8 & 5.6 & 2.2 & virginica & 12.32 \\\\\n",
       "\t23 & 6.4 & 3.1 & 5.5 & 1.8 & virginica & 9.9 \\\\\n",
       "\t24 & 6.4 & 3.2 & 5.3 & 2.3 & virginica & 12.19 \\\\\n",
       "\t25 & 6.5 & 3.0 & 5.8 & 2.2 & virginica & 12.76 \\\\\n",
       "\t26 & 6.5 & 3.0 & 5.5 & 1.8 & virginica & 9.9 \\\\\n",
       "\t27 & 6.5 & 3.0 & 5.2 & 2.0 & virginica & 10.4 \\\\\n",
       "\t28 & 6.5 & 3.2 & 5.1 & 2.0 & virginica & 10.2 \\\\\n",
       "\t29 & 6.7 & 2.5 & 5.8 & 1.8 & virginica & 10.44 \\\\\n",
       "\t30 & 6.7 & 3.0 & 5.2 & 2.3 & virginica & 11.96 \\\\\n",
       "\t$\\dots$ & $\\dots$ & $\\dots$ & $\\dots$ & $\\dots$ & $\\dots$ & $\\dots$ \\\\\n",
       "\\end{tabular}\n"
      ],
      "text/plain": [
       "GroupedDataFrame with 3 groups based on key: Species\n",
       "First Group (50 rows): Species = \"setosa\". Omitted printing of 1 columns\n",
       "│ Row │ SepalLength │ SepalWidth │ PetalLength │ PetalWidth │ Species │\n",
       "│     │ \u001b[90mFloat64\u001b[39m     │ \u001b[90mFloat64\u001b[39m    │ \u001b[90mFloat64\u001b[39m     │ \u001b[90mFloat64\u001b[39m    │ \u001b[90mCat…\u001b[39m    │\n",
       "├─────┼─────────────┼────────────┼─────────────┼────────────┼─────────┤\n",
       "│ 1   │ 4.3         │ 3.0        │ 1.1         │ 0.1        │ setosa  │\n",
       "│ 2   │ 4.4         │ 2.9        │ 1.4         │ 0.2        │ setosa  │\n",
       "│ 3   │ 4.4         │ 3.0        │ 1.3         │ 0.2        │ setosa  │\n",
       "│ 4   │ 4.4         │ 3.2        │ 1.3         │ 0.2        │ setosa  │\n",
       "│ 5   │ 4.5         │ 2.3        │ 1.3         │ 0.3        │ setosa  │\n",
       "│ 6   │ 4.6         │ 3.1        │ 1.5         │ 0.2        │ setosa  │\n",
       "│ 7   │ 4.6         │ 3.2        │ 1.4         │ 0.2        │ setosa  │\n",
       "│ 8   │ 4.6         │ 3.4        │ 1.4         │ 0.3        │ setosa  │\n",
       "│ 9   │ 4.6         │ 3.6        │ 1.0         │ 0.2        │ setosa  │\n",
       "│ 10  │ 4.7         │ 3.2        │ 1.3         │ 0.2        │ setosa  │\n",
       "⋮\n",
       "│ 40  │ 5.3         │ 3.7        │ 1.5         │ 0.2        │ setosa  │\n",
       "│ 41  │ 5.4         │ 3.4        │ 1.7         │ 0.2        │ setosa  │\n",
       "│ 42  │ 5.4         │ 3.4        │ 1.5         │ 0.4        │ setosa  │\n",
       "│ 43  │ 5.4         │ 3.7        │ 1.5         │ 0.2        │ setosa  │\n",
       "│ 44  │ 5.4         │ 3.9        │ 1.7         │ 0.4        │ setosa  │\n",
       "│ 45  │ 5.4         │ 3.9        │ 1.3         │ 0.4        │ setosa  │\n",
       "│ 46  │ 5.5         │ 3.5        │ 1.3         │ 0.2        │ setosa  │\n",
       "│ 47  │ 5.5         │ 4.2        │ 1.4         │ 0.2        │ setosa  │\n",
       "│ 48  │ 5.7         │ 3.8        │ 1.7         │ 0.3        │ setosa  │\n",
       "│ 49  │ 5.7         │ 4.4        │ 1.5         │ 0.4        │ setosa  │\n",
       "│ 50  │ 5.8         │ 4.0        │ 1.2         │ 0.2        │ setosa  │\n",
       "⋮\n",
       "Last Group (50 rows): Species = \"virginica\". Omitted printing of 1 columns\n",
       "│ Row │ SepalLength │ SepalWidth │ PetalLength │ PetalWidth │ Species   │\n",
       "│     │ \u001b[90mFloat64\u001b[39m     │ \u001b[90mFloat64\u001b[39m    │ \u001b[90mFloat64\u001b[39m     │ \u001b[90mFloat64\u001b[39m    │ \u001b[90mCat…\u001b[39m      │\n",
       "├─────┼─────────────┼────────────┼─────────────┼────────────┼───────────┤\n",
       "│ 1   │ 4.9         │ 2.5        │ 4.5         │ 1.7        │ virginica │\n",
       "│ 2   │ 5.6         │ 2.8        │ 4.9         │ 2.0        │ virginica │\n",
       "│ 3   │ 5.7         │ 2.5        │ 5.0         │ 2.0        │ virginica │\n",
       "│ 4   │ 5.8         │ 2.7        │ 5.1         │ 1.9        │ virginica │\n",
       "│ 5   │ 5.8         │ 2.7        │ 5.1         │ 1.9        │ virginica │\n",
       "│ 6   │ 5.8         │ 2.8        │ 5.1         │ 2.4        │ virginica │\n",
       "│ 7   │ 5.9         │ 3.0        │ 5.1         │ 1.8        │ virginica │\n",
       "│ 8   │ 6.0         │ 2.2        │ 5.0         │ 1.5        │ virginica │\n",
       "│ 9   │ 6.0         │ 3.0        │ 4.8         │ 1.8        │ virginica │\n",
       "│ 10  │ 6.1         │ 2.6        │ 5.6         │ 1.4        │ virginica │\n",
       "⋮\n",
       "│ 40  │ 7.2         │ 3.0        │ 5.8         │ 1.6        │ virginica │\n",
       "│ 41  │ 7.2         │ 3.2        │ 6.0         │ 1.8        │ virginica │\n",
       "│ 42  │ 7.2         │ 3.6        │ 6.1         │ 2.5        │ virginica │\n",
       "│ 43  │ 7.3         │ 2.9        │ 6.3         │ 1.8        │ virginica │\n",
       "│ 44  │ 7.4         │ 2.8        │ 6.1         │ 1.9        │ virginica │\n",
       "│ 45  │ 7.6         │ 3.0        │ 6.6         │ 2.1        │ virginica │\n",
       "│ 46  │ 7.7         │ 2.6        │ 6.9         │ 2.3        │ virginica │\n",
       "│ 47  │ 7.7         │ 2.8        │ 6.7         │ 2.0        │ virginica │\n",
       "│ 48  │ 7.7         │ 3.0        │ 6.1         │ 2.3        │ virginica │\n",
       "│ 49  │ 7.7         │ 3.8        │ 6.7         │ 2.2        │ virginica │\n",
       "│ 50  │ 7.9         │ 3.8        │ 6.4         │ 2.0        │ virginica │"
      ]
     },
     "execution_count": 58,
     "metadata": {},
     "output_type": "execute_result"
    }
   ],
   "source": [
    "gdf = groupby(iris, :Species)"
   ]
  },
  {
   "cell_type": "code",
   "execution_count": 59,
   "metadata": {
    "slideshow": {
     "slide_type": "slide"
    }
   },
   "outputs": [
    {
     "data": {
      "text/html": [
       "<table class=\"data-frame\"><thead><tr><th></th><th>Species</th><th>PetalLength_mean</th></tr><tr><th></th><th>Cat…</th><th>Float64</th></tr></thead><tbody><p>3 rows × 2 columns</p><tr><th>1</th><td>setosa</td><td>1.462</td></tr><tr><th>2</th><td>versicolor</td><td>4.26</td></tr><tr><th>3</th><td>virginica</td><td>5.552</td></tr></tbody></table>"
      ],
      "text/latex": [
       "\\begin{tabular}{r|cc}\n",
       "\t& Species & PetalLength\\_mean\\\\\n",
       "\t\\hline\n",
       "\t& Cat… & Float64\\\\\n",
       "\t\\hline\n",
       "\t1 & setosa & 1.462 \\\\\n",
       "\t2 & versicolor & 4.26 \\\\\n",
       "\t3 & virginica & 5.552 \\\\\n",
       "\\end{tabular}\n"
      ],
      "text/plain": [
       "3×2 DataFrame\n",
       "│ Row │ Species    │ PetalLength_mean │\n",
       "│     │ \u001b[90mCat…\u001b[39m       │ \u001b[90mFloat64\u001b[39m          │\n",
       "├─────┼────────────┼──────────────────┤\n",
       "│ 1   │ setosa     │ 1.462            │\n",
       "│ 2   │ versicolor │ 4.26             │\n",
       "│ 3   │ virginica  │ 5.552            │"
      ]
     },
     "execution_count": 59,
     "metadata": {},
     "output_type": "execute_result"
    }
   ],
   "source": [
    "combine(gdf, :PetalLength => mean)"
   ]
  },
  {
   "cell_type": "markdown",
   "metadata": {
    "slideshow": {
     "slide_type": "slide"
    }
   },
   "source": [
    "## Reshape"
   ]
  },
  {
   "cell_type": "markdown",
   "metadata": {
    "slideshow": {
     "slide_type": "slide"
    }
   },
   "source": [
    "### Original data format is wide format"
   ]
  },
  {
   "cell_type": "code",
   "execution_count": 60,
   "metadata": {},
   "outputs": [
    {
     "data": {
      "text/html": [
       "<table class=\"data-frame\"><thead><tr><th></th><th>SepalLength</th><th>SepalWidth</th><th>PetalLength</th><th>PetalWidth</th><th>Species</th><th>PetalArea</th><th>id</th></tr><tr><th></th><th>Float64</th><th>Float64</th><th>Float64</th><th>Float64</th><th>Cat…</th><th>Float64</th><th>Int64</th></tr></thead><tbody><p>10 rows × 7 columns</p><tr><th>1</th><td>4.9</td><td>2.5</td><td>4.5</td><td>1.7</td><td>virginica</td><td>7.65</td><td>1</td></tr><tr><th>2</th><td>5.6</td><td>2.8</td><td>4.9</td><td>2.0</td><td>virginica</td><td>9.8</td><td>2</td></tr><tr><th>3</th><td>5.7</td><td>2.5</td><td>5.0</td><td>2.0</td><td>virginica</td><td>10.0</td><td>3</td></tr><tr><th>4</th><td>5.8</td><td>2.7</td><td>5.1</td><td>1.9</td><td>virginica</td><td>9.69</td><td>4</td></tr><tr><th>5</th><td>5.8</td><td>2.7</td><td>5.1</td><td>1.9</td><td>virginica</td><td>9.69</td><td>5</td></tr><tr><th>6</th><td>5.8</td><td>2.8</td><td>5.1</td><td>2.4</td><td>virginica</td><td>12.24</td><td>6</td></tr><tr><th>7</th><td>5.9</td><td>3.0</td><td>5.1</td><td>1.8</td><td>virginica</td><td>9.18</td><td>7</td></tr><tr><th>8</th><td>6.0</td><td>2.2</td><td>5.0</td><td>1.5</td><td>virginica</td><td>7.5</td><td>8</td></tr><tr><th>9</th><td>6.0</td><td>3.0</td><td>4.8</td><td>1.8</td><td>virginica</td><td>8.64</td><td>9</td></tr><tr><th>10</th><td>6.1</td><td>2.6</td><td>5.6</td><td>1.4</td><td>virginica</td><td>7.84</td><td>10</td></tr></tbody></table>"
      ],
      "text/latex": [
       "\\begin{tabular}{r|ccccccc}\n",
       "\t& SepalLength & SepalWidth & PetalLength & PetalWidth & Species & PetalArea & id\\\\\n",
       "\t\\hline\n",
       "\t& Float64 & Float64 & Float64 & Float64 & Cat… & Float64 & Int64\\\\\n",
       "\t\\hline\n",
       "\t1 & 4.9 & 2.5 & 4.5 & 1.7 & virginica & 7.65 & 1 \\\\\n",
       "\t2 & 5.6 & 2.8 & 4.9 & 2.0 & virginica & 9.8 & 2 \\\\\n",
       "\t3 & 5.7 & 2.5 & 5.0 & 2.0 & virginica & 10.0 & 3 \\\\\n",
       "\t4 & 5.8 & 2.7 & 5.1 & 1.9 & virginica & 9.69 & 4 \\\\\n",
       "\t5 & 5.8 & 2.7 & 5.1 & 1.9 & virginica & 9.69 & 5 \\\\\n",
       "\t6 & 5.8 & 2.8 & 5.1 & 2.4 & virginica & 12.24 & 6 \\\\\n",
       "\t7 & 5.9 & 3.0 & 5.1 & 1.8 & virginica & 9.18 & 7 \\\\\n",
       "\t8 & 6.0 & 2.2 & 5.0 & 1.5 & virginica & 7.5 & 8 \\\\\n",
       "\t9 & 6.0 & 3.0 & 4.8 & 1.8 & virginica & 8.64 & 9 \\\\\n",
       "\t10 & 6.1 & 2.6 & 5.6 & 1.4 & virginica & 7.84 & 10 \\\\\n",
       "\\end{tabular}\n"
      ],
      "text/plain": [
       "10×7 DataFrame. Omitted printing of 2 columns\n",
       "│ Row │ SepalLength │ SepalWidth │ PetalLength │ PetalWidth │ Species   │\n",
       "│     │ \u001b[90mFloat64\u001b[39m     │ \u001b[90mFloat64\u001b[39m    │ \u001b[90mFloat64\u001b[39m     │ \u001b[90mFloat64\u001b[39m    │ \u001b[90mCat…\u001b[39m      │\n",
       "├─────┼─────────────┼────────────┼─────────────┼────────────┼───────────┤\n",
       "│ 1   │ 4.9         │ 2.5        │ 4.5         │ 1.7        │ virginica │\n",
       "│ 2   │ 5.6         │ 2.8        │ 4.9         │ 2.0        │ virginica │\n",
       "│ 3   │ 5.7         │ 2.5        │ 5.0         │ 2.0        │ virginica │\n",
       "│ 4   │ 5.8         │ 2.7        │ 5.1         │ 1.9        │ virginica │\n",
       "│ 5   │ 5.8         │ 2.7        │ 5.1         │ 1.9        │ virginica │\n",
       "│ 6   │ 5.8         │ 2.8        │ 5.1         │ 2.4        │ virginica │\n",
       "│ 7   │ 5.9         │ 3.0        │ 5.1         │ 1.8        │ virginica │\n",
       "│ 8   │ 6.0         │ 2.2        │ 5.0         │ 1.5        │ virginica │\n",
       "│ 9   │ 6.0         │ 3.0        │ 4.8         │ 1.8        │ virginica │\n",
       "│ 10  │ 6.1         │ 2.6        │ 5.6         │ 1.4        │ virginica │"
      ]
     },
     "execution_count": 60,
     "metadata": {},
     "output_type": "execute_result"
    }
   ],
   "source": [
    "iris[!,:id] = 1:size(iris, 1)\n",
    "first(iris, 10)"
   ]
  },
  {
   "cell_type": "markdown",
   "metadata": {
    "slideshow": {
     "slide_type": "slide"
    }
   },
   "source": [
    "## Stack specified column into data and transform into long format"
   ]
  },
  {
   "cell_type": "code",
   "execution_count": 61,
   "metadata": {},
   "outputs": [
    {
     "data": {
      "text/html": [
       "<table class=\"data-frame\"><thead><tr><th></th><th>Species</th><th>PetalArea</th><th>id</th><th>variable</th><th>value</th></tr><tr><th></th><th>Cat…</th><th>Float64</th><th>Int64</th><th>Cat…</th><th>Float64</th></tr></thead><tbody><p>10 rows × 5 columns</p><tr><th>1</th><td>virginica</td><td>7.65</td><td>1</td><td>SepalLength</td><td>4.9</td></tr><tr><th>2</th><td>virginica</td><td>9.8</td><td>2</td><td>SepalLength</td><td>5.6</td></tr><tr><th>3</th><td>virginica</td><td>10.0</td><td>3</td><td>SepalLength</td><td>5.7</td></tr><tr><th>4</th><td>virginica</td><td>9.69</td><td>4</td><td>SepalLength</td><td>5.8</td></tr><tr><th>5</th><td>virginica</td><td>9.69</td><td>5</td><td>SepalLength</td><td>5.8</td></tr><tr><th>6</th><td>virginica</td><td>12.24</td><td>6</td><td>SepalLength</td><td>5.8</td></tr><tr><th>7</th><td>virginica</td><td>9.18</td><td>7</td><td>SepalLength</td><td>5.9</td></tr><tr><th>8</th><td>virginica</td><td>7.5</td><td>8</td><td>SepalLength</td><td>6.0</td></tr><tr><th>9</th><td>virginica</td><td>8.64</td><td>9</td><td>SepalLength</td><td>6.0</td></tr><tr><th>10</th><td>virginica</td><td>7.84</td><td>10</td><td>SepalLength</td><td>6.1</td></tr></tbody></table>"
      ],
      "text/latex": [
       "\\begin{tabular}{r|ccccc}\n",
       "\t& Species & PetalArea & id & variable & value\\\\\n",
       "\t\\hline\n",
       "\t& Cat… & Float64 & Int64 & Cat… & Float64\\\\\n",
       "\t\\hline\n",
       "\t1 & virginica & 7.65 & 1 & SepalLength & 4.9 \\\\\n",
       "\t2 & virginica & 9.8 & 2 & SepalLength & 5.6 \\\\\n",
       "\t3 & virginica & 10.0 & 3 & SepalLength & 5.7 \\\\\n",
       "\t4 & virginica & 9.69 & 4 & SepalLength & 5.8 \\\\\n",
       "\t5 & virginica & 9.69 & 5 & SepalLength & 5.8 \\\\\n",
       "\t6 & virginica & 12.24 & 6 & SepalLength & 5.8 \\\\\n",
       "\t7 & virginica & 9.18 & 7 & SepalLength & 5.9 \\\\\n",
       "\t8 & virginica & 7.5 & 8 & SepalLength & 6.0 \\\\\n",
       "\t9 & virginica & 8.64 & 9 & SepalLength & 6.0 \\\\\n",
       "\t10 & virginica & 7.84 & 10 & SepalLength & 6.1 \\\\\n",
       "\\end{tabular}\n"
      ],
      "text/plain": [
       "10×5 DataFrame\n",
       "│ Row │ Species   │ PetalArea │ id    │ variable    │ value   │\n",
       "│     │ \u001b[90mCat…\u001b[39m      │ \u001b[90mFloat64\u001b[39m   │ \u001b[90mInt64\u001b[39m │ \u001b[90mCat…\u001b[39m        │ \u001b[90mFloat64\u001b[39m │\n",
       "├─────┼───────────┼───────────┼───────┼─────────────┼─────────┤\n",
       "│ 1   │ virginica │ 7.65      │ 1     │ SepalLength │ 4.9     │\n",
       "│ 2   │ virginica │ 9.8       │ 2     │ SepalLength │ 5.6     │\n",
       "│ 3   │ virginica │ 10.0      │ 3     │ SepalLength │ 5.7     │\n",
       "│ 4   │ virginica │ 9.69      │ 4     │ SepalLength │ 5.8     │\n",
       "│ 5   │ virginica │ 9.69      │ 5     │ SepalLength │ 5.8     │\n",
       "│ 6   │ virginica │ 12.24     │ 6     │ SepalLength │ 5.8     │\n",
       "│ 7   │ virginica │ 9.18      │ 7     │ SepalLength │ 5.9     │\n",
       "│ 8   │ virginica │ 7.5       │ 8     │ SepalLength │ 6.0     │\n",
       "│ 9   │ virginica │ 8.64      │ 9     │ SepalLength │ 6.0     │\n",
       "│ 10  │ virginica │ 7.84      │ 10    │ SepalLength │ 6.1     │"
      ]
     },
     "execution_count": 61,
     "metadata": {},
     "output_type": "execute_result"
    }
   ],
   "source": [
    "d = stack(iris, [:SepalLength, :SepalWidth, :PetalLength, :PetalWidth])\n",
    "first(d, 10)"
   ]
  },
  {
   "cell_type": "markdown",
   "metadata": {
    "slideshow": {
     "slide_type": "slide"
    }
   },
   "source": [
    "### Stack other columns"
   ]
  },
  {
   "cell_type": "code",
   "execution_count": 62,
   "metadata": {},
   "outputs": [
    {
     "data": {
      "text/html": [
       "<table class=\"data-frame\"><thead><tr><th></th><th>Species</th><th>variable</th><th>value</th></tr><tr><th></th><th>Cat…</th><th>Cat…</th><th>Float64</th></tr></thead><tbody><p>10 rows × 3 columns</p><tr><th>1</th><td>virginica</td><td>SepalLength</td><td>4.9</td></tr><tr><th>2</th><td>virginica</td><td>SepalLength</td><td>5.6</td></tr><tr><th>3</th><td>virginica</td><td>SepalLength</td><td>5.7</td></tr><tr><th>4</th><td>virginica</td><td>SepalLength</td><td>5.8</td></tr><tr><th>5</th><td>virginica</td><td>SepalLength</td><td>5.8</td></tr><tr><th>6</th><td>virginica</td><td>SepalLength</td><td>5.8</td></tr><tr><th>7</th><td>virginica</td><td>SepalLength</td><td>5.9</td></tr><tr><th>8</th><td>virginica</td><td>SepalLength</td><td>6.0</td></tr><tr><th>9</th><td>virginica</td><td>SepalLength</td><td>6.0</td></tr><tr><th>10</th><td>virginica</td><td>SepalLength</td><td>6.1</td></tr></tbody></table>"
      ],
      "text/latex": [
       "\\begin{tabular}{r|ccc}\n",
       "\t& Species & variable & value\\\\\n",
       "\t\\hline\n",
       "\t& Cat… & Cat… & Float64\\\\\n",
       "\t\\hline\n",
       "\t1 & virginica & SepalLength & 4.9 \\\\\n",
       "\t2 & virginica & SepalLength & 5.6 \\\\\n",
       "\t3 & virginica & SepalLength & 5.7 \\\\\n",
       "\t4 & virginica & SepalLength & 5.8 \\\\\n",
       "\t5 & virginica & SepalLength & 5.8 \\\\\n",
       "\t6 & virginica & SepalLength & 5.8 \\\\\n",
       "\t7 & virginica & SepalLength & 5.9 \\\\\n",
       "\t8 & virginica & SepalLength & 6.0 \\\\\n",
       "\t9 & virginica & SepalLength & 6.0 \\\\\n",
       "\t10 & virginica & SepalLength & 6.1 \\\\\n",
       "\\end{tabular}\n"
      ],
      "text/plain": [
       "10×3 DataFrame\n",
       "│ Row │ Species   │ variable    │ value   │\n",
       "│     │ \u001b[90mCat…\u001b[39m      │ \u001b[90mCat…\u001b[39m        │ \u001b[90mFloat64\u001b[39m │\n",
       "├─────┼───────────┼─────────────┼─────────┤\n",
       "│ 1   │ virginica │ SepalLength │ 4.9     │\n",
       "│ 2   │ virginica │ SepalLength │ 5.6     │\n",
       "│ 3   │ virginica │ SepalLength │ 5.7     │\n",
       "│ 4   │ virginica │ SepalLength │ 5.8     │\n",
       "│ 5   │ virginica │ SepalLength │ 5.8     │\n",
       "│ 6   │ virginica │ SepalLength │ 5.8     │\n",
       "│ 7   │ virginica │ SepalLength │ 5.9     │\n",
       "│ 8   │ virginica │ SepalLength │ 6.0     │\n",
       "│ 9   │ virginica │ SepalLength │ 6.0     │\n",
       "│ 10  │ virginica │ SepalLength │ 6.1     │"
      ]
     },
     "execution_count": 62,
     "metadata": {},
     "output_type": "execute_result"
    }
   ],
   "source": [
    "d = stack(iris, [:SepalLength, :SepalWidth], :Species)\n",
    "first(d, 10)"
   ]
  },
  {
   "cell_type": "markdown",
   "metadata": {
    "slideshow": {
     "slide_type": "slide"
    }
   },
   "source": [
    "### Unstack"
   ]
  },
  {
   "cell_type": "code",
   "execution_count": 63,
   "metadata": {},
   "outputs": [
    {
     "data": {
      "text/html": [
       "<table class=\"data-frame\"><thead><tr><th></th><th>id</th><th>SepalLength</th><th>SepalWidth</th><th>PetalLength</th><th>PetalWidth</th></tr><tr><th></th><th>Int64</th><th>Float64?</th><th>Float64?</th><th>Float64?</th><th>Float64?</th></tr></thead><tbody><p>10 rows × 5 columns</p><tr><th>1</th><td>1</td><td>4.9</td><td>2.5</td><td>4.5</td><td>1.7</td></tr><tr><th>2</th><td>2</td><td>5.6</td><td>2.8</td><td>4.9</td><td>2.0</td></tr><tr><th>3</th><td>3</td><td>5.7</td><td>2.5</td><td>5.0</td><td>2.0</td></tr><tr><th>4</th><td>4</td><td>5.8</td><td>2.7</td><td>5.1</td><td>1.9</td></tr><tr><th>5</th><td>5</td><td>5.8</td><td>2.7</td><td>5.1</td><td>1.9</td></tr><tr><th>6</th><td>6</td><td>5.8</td><td>2.8</td><td>5.1</td><td>2.4</td></tr><tr><th>7</th><td>7</td><td>5.9</td><td>3.0</td><td>5.1</td><td>1.8</td></tr><tr><th>8</th><td>8</td><td>6.0</td><td>2.2</td><td>5.0</td><td>1.5</td></tr><tr><th>9</th><td>9</td><td>6.0</td><td>3.0</td><td>4.8</td><td>1.8</td></tr><tr><th>10</th><td>10</td><td>6.1</td><td>2.6</td><td>5.6</td><td>1.4</td></tr></tbody></table>"
      ],
      "text/latex": [
       "\\begin{tabular}{r|ccccc}\n",
       "\t& id & SepalLength & SepalWidth & PetalLength & PetalWidth\\\\\n",
       "\t\\hline\n",
       "\t& Int64 & Float64? & Float64? & Float64? & Float64?\\\\\n",
       "\t\\hline\n",
       "\t1 & 1 & 4.9 & 2.5 & 4.5 & 1.7 \\\\\n",
       "\t2 & 2 & 5.6 & 2.8 & 4.9 & 2.0 \\\\\n",
       "\t3 & 3 & 5.7 & 2.5 & 5.0 & 2.0 \\\\\n",
       "\t4 & 4 & 5.8 & 2.7 & 5.1 & 1.9 \\\\\n",
       "\t5 & 5 & 5.8 & 2.7 & 5.1 & 1.9 \\\\\n",
       "\t6 & 6 & 5.8 & 2.8 & 5.1 & 2.4 \\\\\n",
       "\t7 & 7 & 5.9 & 3.0 & 5.1 & 1.8 \\\\\n",
       "\t8 & 8 & 6.0 & 2.2 & 5.0 & 1.5 \\\\\n",
       "\t9 & 9 & 6.0 & 3.0 & 4.8 & 1.8 \\\\\n",
       "\t10 & 10 & 6.1 & 2.6 & 5.6 & 1.4 \\\\\n",
       "\\end{tabular}\n"
      ],
      "text/plain": [
       "10×5 DataFrame\n",
       "│ Row │ id    │ SepalLength │ SepalWidth │ PetalLength │ PetalWidth │\n",
       "│     │ \u001b[90mInt64\u001b[39m │ \u001b[90mFloat64?\u001b[39m    │ \u001b[90mFloat64?\u001b[39m   │ \u001b[90mFloat64?\u001b[39m    │ \u001b[90mFloat64?\u001b[39m   │\n",
       "├─────┼───────┼─────────────┼────────────┼─────────────┼────────────┤\n",
       "│ 1   │ 1     │ 4.9         │ 2.5        │ 4.5         │ 1.7        │\n",
       "│ 2   │ 2     │ 5.6         │ 2.8        │ 4.9         │ 2.0        │\n",
       "│ 3   │ 3     │ 5.7         │ 2.5        │ 5.0         │ 2.0        │\n",
       "│ 4   │ 4     │ 5.8         │ 2.7        │ 5.1         │ 1.9        │\n",
       "│ 5   │ 5     │ 5.8         │ 2.7        │ 5.1         │ 1.9        │\n",
       "│ 6   │ 6     │ 5.8         │ 2.8        │ 5.1         │ 2.4        │\n",
       "│ 7   │ 7     │ 5.9         │ 3.0        │ 5.1         │ 1.8        │\n",
       "│ 8   │ 8     │ 6.0         │ 2.2        │ 5.0         │ 1.5        │\n",
       "│ 9   │ 9     │ 6.0         │ 3.0        │ 4.8         │ 1.8        │\n",
       "│ 10  │ 10    │ 6.1         │ 2.6        │ 5.6         │ 1.4        │"
      ]
     },
     "execution_count": 63,
     "metadata": {},
     "output_type": "execute_result"
    }
   ],
   "source": [
    "d = stack(iris, [:SepalLength, :SepalWidth, :PetalLength, :PetalWidth])\n",
    "first(unstack(d, :id, :variable, :value), 10)"
   ]
  },
  {
   "cell_type": "markdown",
   "metadata": {
    "slideshow": {
     "slide_type": "slide"
    }
   },
   "source": [
    "## Not specify identifier"
   ]
  },
  {
   "cell_type": "code",
   "execution_count": 64,
   "metadata": {},
   "outputs": [
    {
     "data": {
      "text/html": [
       "<table class=\"data-frame\"><thead><tr><th></th><th>Species</th><th>PetalArea</th><th>id</th><th>SepalLength</th><th>SepalWidth</th><th>PetalLength</th><th>PetalWidth</th></tr><tr><th></th><th>Cat…</th><th>Float64</th><th>Int64</th><th>Float64?</th><th>Float64?</th><th>Float64?</th><th>Float64?</th></tr></thead><tbody><p>10 rows × 7 columns</p><tr><th>1</th><td>setosa</td><td>0.11</td><td>101</td><td>4.3</td><td>3.0</td><td>1.1</td><td>0.1</td></tr><tr><th>2</th><td>setosa</td><td>0.14</td><td>112</td><td>4.8</td><td>3.0</td><td>1.4</td><td>0.1</td></tr><tr><th>3</th><td>setosa</td><td>0.14</td><td>120</td><td>4.9</td><td>3.6</td><td>1.4</td><td>0.1</td></tr><tr><th>4</th><td>setosa</td><td>0.15</td><td>118</td><td>4.9</td><td>3.1</td><td>1.5</td><td>0.1</td></tr><tr><th>5</th><td>setosa</td><td>0.15</td><td>139</td><td>5.2</td><td>4.1</td><td>1.5</td><td>0.1</td></tr><tr><th>6</th><td>setosa</td><td>0.2</td><td>109</td><td>4.6</td><td>3.6</td><td>1.0</td><td>0.2</td></tr><tr><th>7</th><td>setosa</td><td>0.24</td><td>122</td><td>5.0</td><td>3.2</td><td>1.2</td><td>0.2</td></tr><tr><th>8</th><td>setosa</td><td>0.24</td><td>150</td><td>5.8</td><td>4.0</td><td>1.2</td><td>0.2</td></tr><tr><th>9</th><td>setosa</td><td>0.26</td><td>103</td><td>4.4</td><td>3.0</td><td>1.3</td><td>0.2</td></tr><tr><th>10</th><td>setosa</td><td>0.26</td><td>104</td><td>4.4</td><td>3.2</td><td>1.3</td><td>0.2</td></tr></tbody></table>"
      ],
      "text/latex": [
       "\\begin{tabular}{r|ccccccc}\n",
       "\t& Species & PetalArea & id & SepalLength & SepalWidth & PetalLength & PetalWidth\\\\\n",
       "\t\\hline\n",
       "\t& Cat… & Float64 & Int64 & Float64? & Float64? & Float64? & Float64?\\\\\n",
       "\t\\hline\n",
       "\t1 & setosa & 0.11 & 101 & 4.3 & 3.0 & 1.1 & 0.1 \\\\\n",
       "\t2 & setosa & 0.14 & 112 & 4.8 & 3.0 & 1.4 & 0.1 \\\\\n",
       "\t3 & setosa & 0.14 & 120 & 4.9 & 3.6 & 1.4 & 0.1 \\\\\n",
       "\t4 & setosa & 0.15 & 118 & 4.9 & 3.1 & 1.5 & 0.1 \\\\\n",
       "\t5 & setosa & 0.15 & 139 & 5.2 & 4.1 & 1.5 & 0.1 \\\\\n",
       "\t6 & setosa & 0.2 & 109 & 4.6 & 3.6 & 1.0 & 0.2 \\\\\n",
       "\t7 & setosa & 0.24 & 122 & 5.0 & 3.2 & 1.2 & 0.2 \\\\\n",
       "\t8 & setosa & 0.24 & 150 & 5.8 & 4.0 & 1.2 & 0.2 \\\\\n",
       "\t9 & setosa & 0.26 & 103 & 4.4 & 3.0 & 1.3 & 0.2 \\\\\n",
       "\t10 & setosa & 0.26 & 104 & 4.4 & 3.2 & 1.3 & 0.2 \\\\\n",
       "\\end{tabular}\n"
      ],
      "text/plain": [
       "10×7 DataFrame. Omitted printing of 1 columns\n",
       "│ Row │ Species │ PetalArea │ id    │ SepalLength │ SepalWidth │ PetalLength │\n",
       "│     │ \u001b[90mCat…\u001b[39m    │ \u001b[90mFloat64\u001b[39m   │ \u001b[90mInt64\u001b[39m │ \u001b[90mFloat64?\u001b[39m    │ \u001b[90mFloat64?\u001b[39m   │ \u001b[90mFloat64?\u001b[39m    │\n",
       "├─────┼─────────┼───────────┼───────┼─────────────┼────────────┼─────────────┤\n",
       "│ 1   │ setosa  │ 0.11      │ 101   │ 4.3         │ 3.0        │ 1.1         │\n",
       "│ 2   │ setosa  │ 0.14      │ 112   │ 4.8         │ 3.0        │ 1.4         │\n",
       "│ 3   │ setosa  │ 0.14      │ 120   │ 4.9         │ 3.6        │ 1.4         │\n",
       "│ 4   │ setosa  │ 0.15      │ 118   │ 4.9         │ 3.1        │ 1.5         │\n",
       "│ 5   │ setosa  │ 0.15      │ 139   │ 5.2         │ 4.1        │ 1.5         │\n",
       "│ 6   │ setosa  │ 0.2       │ 109   │ 4.6         │ 3.6        │ 1.0         │\n",
       "│ 7   │ setosa  │ 0.24      │ 122   │ 5.0         │ 3.2        │ 1.2         │\n",
       "│ 8   │ setosa  │ 0.24      │ 150   │ 5.8         │ 4.0        │ 1.2         │\n",
       "│ 9   │ setosa  │ 0.26      │ 103   │ 4.4         │ 3.0        │ 1.3         │\n",
       "│ 10  │ setosa  │ 0.26      │ 104   │ 4.4         │ 3.2        │ 1.3         │"
      ]
     },
     "execution_count": 64,
     "metadata": {},
     "output_type": "execute_result"
    }
   ],
   "source": [
    "first(unstack(d, :variable, :value), 10)"
   ]
  },
  {
   "cell_type": "markdown",
   "metadata": {
    "slideshow": {
     "slide_type": "slide"
    }
   },
   "source": [
    "### Application\n",
    "\n",
    "Calculate the average of every feature grouped by :Species"
   ]
  },
  {
   "cell_type": "code",
   "execution_count": 65,
   "metadata": {},
   "outputs": [
    {
     "name": "stderr",
     "output_type": "stream",
     "text": [
      "┌ Warning: `by(d::AbstractDataFrame, cols::Any, f::Base.Callable; sort::Bool = false, skipmissing::Bool = false)` is deprecated, use `combine(f, groupby(d, cols, sort = sort, skipmissing = skipmissing))` instead.\n",
      "│   caller = top-level scope at In[65]:2\n",
      "└ @ Core In[65]:2\n"
     ]
    },
    {
     "data": {
      "text/html": [
       "<table class=\"data-frame\"><thead><tr><th></th><th>variable</th><th>setosa</th><th>versicolor</th><th>virginica</th></tr><tr><th></th><th>Cat…</th><th>Float64?</th><th>Float64?</th><th>Float64?</th></tr></thead><tbody><p>5 rows × 4 columns</p><tr><th>1</th><td>SepalLength</td><td>5.006</td><td>5.936</td><td>6.588</td></tr><tr><th>2</th><td>SepalWidth</td><td>3.428</td><td>2.77</td><td>2.974</td></tr><tr><th>3</th><td>PetalLength</td><td>1.462</td><td>4.26</td><td>5.552</td></tr><tr><th>4</th><td>PetalWidth</td><td>0.246</td><td>1.326</td><td>2.026</td></tr><tr><th>5</th><td>PetalArea</td><td>0.3656</td><td>5.7204</td><td>11.2962</td></tr></tbody></table>"
      ],
      "text/latex": [
       "\\begin{tabular}{r|cccc}\n",
       "\t& variable & setosa & versicolor & virginica\\\\\n",
       "\t\\hline\n",
       "\t& Cat… & Float64? & Float64? & Float64?\\\\\n",
       "\t\\hline\n",
       "\t1 & SepalLength & 5.006 & 5.936 & 6.588 \\\\\n",
       "\t2 & SepalWidth & 3.428 & 2.77 & 2.974 \\\\\n",
       "\t3 & PetalLength & 1.462 & 4.26 & 5.552 \\\\\n",
       "\t4 & PetalWidth & 0.246 & 1.326 & 2.026 \\\\\n",
       "\t5 & PetalArea & 0.3656 & 5.7204 & 11.2962 \\\\\n",
       "\\end{tabular}\n"
      ],
      "text/plain": [
       "5×4 DataFrame\n",
       "│ Row │ variable    │ setosa   │ versicolor │ virginica │\n",
       "│     │ \u001b[90mCat…\u001b[39m        │ \u001b[90mFloat64?\u001b[39m │ \u001b[90mFloat64?\u001b[39m   │ \u001b[90mFloat64?\u001b[39m  │\n",
       "├─────┼─────────────┼──────────┼────────────┼───────────┤\n",
       "│ 1   │ SepalLength │ 5.006    │ 5.936      │ 6.588     │\n",
       "│ 2   │ SepalWidth  │ 3.428    │ 2.77       │ 2.974     │\n",
       "│ 3   │ PetalLength │ 1.462    │ 4.26       │ 5.552     │\n",
       "│ 4   │ PetalWidth  │ 0.246    │ 1.326      │ 2.026     │\n",
       "│ 5   │ PetalArea   │ 0.3656   │ 5.7204     │ 11.2962   │"
      ]
     },
     "execution_count": 65,
     "metadata": {},
     "output_type": "execute_result"
    }
   ],
   "source": [
    "d = stack(iris)\n",
    "x = by(d, [:variable, :Species], df -> DataFrame(vsum = mean(df[!,:value])))\n",
    "unstack(x, :Species, :vsum)"
   ]
  },
  {
   "cell_type": "markdown",
   "metadata": {
    "slideshow": {
     "slide_type": "slide"
    }
   },
   "source": [
    "## Query"
   ]
  },
  {
   "cell_type": "code",
   "execution_count": 66,
   "metadata": {},
   "outputs": [
    {
     "data": {
      "text/html": [
       "<table class=\"data-frame\"><thead><tr><th></th><th>name</th><th>age</th><th>children</th></tr><tr><th></th><th>String</th><th>Float64</th><th>Int64</th></tr></thead><tbody><p>3 rows × 3 columns</p><tr><th>1</th><td>John</td><td>23.0</td><td>3</td></tr><tr><th>2</th><td>Sally</td><td>42.0</td><td>5</td></tr><tr><th>3</th><td>Kirk</td><td>59.0</td><td>2</td></tr></tbody></table>"
      ],
      "text/latex": [
       "\\begin{tabular}{r|ccc}\n",
       "\t& name & age & children\\\\\n",
       "\t\\hline\n",
       "\t& String & Float64 & Int64\\\\\n",
       "\t\\hline\n",
       "\t1 & John & 23.0 & 3 \\\\\n",
       "\t2 & Sally & 42.0 & 5 \\\\\n",
       "\t3 & Kirk & 59.0 & 2 \\\\\n",
       "\\end{tabular}\n"
      ],
      "text/plain": [
       "3×3 DataFrame\n",
       "│ Row │ name   │ age     │ children │\n",
       "│     │ \u001b[90mString\u001b[39m │ \u001b[90mFloat64\u001b[39m │ \u001b[90mInt64\u001b[39m    │\n",
       "├─────┼────────┼─────────┼──────────┤\n",
       "│ 1   │ John   │ 23.0    │ 3        │\n",
       "│ 2   │ Sally  │ 42.0    │ 5        │\n",
       "│ 3   │ Kirk   │ 59.0    │ 2        │"
      ]
     },
     "execution_count": 66,
     "metadata": {},
     "output_type": "execute_result"
    }
   ],
   "source": [
    "df = DataFrame(name=[\"John\", \"Sally\", \"Kirk\"], age=[23., 42., 59.], children=[3,5,2])"
   ]
  },
  {
   "cell_type": "markdown",
   "metadata": {
    "slideshow": {
     "slide_type": "slide"
    }
   },
   "source": [
    "### select-from-where"
   ]
  },
  {
   "cell_type": "code",
   "execution_count": 67,
   "metadata": {},
   "outputs": [
    {
     "data": {
      "text/html": [
       "<table class=\"data-frame\"><thead><tr><th></th><th>name</th><th>children</th></tr><tr><th></th><th>String</th><th>Int64</th></tr></thead><tbody><p>1 rows × 2 columns</p><tr><th>1</th><td>Kirk</td><td>2</td></tr></tbody></table>"
      ],
      "text/latex": [
       "\\begin{tabular}{r|cc}\n",
       "\t& name & children\\\\\n",
       "\t\\hline\n",
       "\t& String & Int64\\\\\n",
       "\t\\hline\n",
       "\t1 & Kirk & 2 \\\\\n",
       "\\end{tabular}\n"
      ],
      "text/plain": [
       "1×2 DataFrame\n",
       "│ Row │ name   │ children │\n",
       "│     │ \u001b[90mString\u001b[39m │ \u001b[90mInt64\u001b[39m    │\n",
       "├─────┼────────┼──────────┤\n",
       "│ 1   │ Kirk   │ 2        │"
      ]
     },
     "execution_count": 67,
     "metadata": {},
     "output_type": "execute_result"
    }
   ],
   "source": [
    "x = @from i in df begin\n",
    "    @where i.age>50\n",
    "    @select {i.name, i.children}\n",
    "    @collect DataFrame\n",
    "end"
   ]
  },
  {
   "cell_type": "markdown",
   "metadata": {
    "slideshow": {
     "slide_type": "slide"
    }
   },
   "source": [
    "### Sorting"
   ]
  },
  {
   "cell_type": "code",
   "execution_count": 68,
   "metadata": {},
   "outputs": [
    {
     "data": {
      "text/html": [
       "<table class=\"data-frame\"><thead><tr><th></th><th>a</th><th>b</th></tr><tr><th></th><th>Int64</th><th>Int64</th></tr></thead><tbody><p>6 rows × 2 columns</p><tr><th>1</th><td>3</td><td>2</td></tr><tr><th>2</th><td>2</td><td>1</td></tr><tr><th>3</th><td>2</td><td>2</td></tr><tr><th>4</th><td>1</td><td>1</td></tr><tr><th>5</th><td>1</td><td>2</td></tr><tr><th>6</th><td>1</td><td>3</td></tr></tbody></table>"
      ],
      "text/latex": [
       "\\begin{tabular}{r|cc}\n",
       "\t& a & b\\\\\n",
       "\t\\hline\n",
       "\t& Int64 & Int64\\\\\n",
       "\t\\hline\n",
       "\t1 & 3 & 2 \\\\\n",
       "\t2 & 2 & 1 \\\\\n",
       "\t3 & 2 & 2 \\\\\n",
       "\t4 & 1 & 1 \\\\\n",
       "\t5 & 1 & 2 \\\\\n",
       "\t6 & 1 & 3 \\\\\n",
       "\\end{tabular}\n"
      ],
      "text/plain": [
       "6×2 DataFrame\n",
       "│ Row │ a     │ b     │\n",
       "│     │ \u001b[90mInt64\u001b[39m │ \u001b[90mInt64\u001b[39m │\n",
       "├─────┼───────┼───────┤\n",
       "│ 1   │ 3     │ 2     │\n",
       "│ 2   │ 2     │ 1     │\n",
       "│ 3   │ 2     │ 2     │\n",
       "│ 4   │ 1     │ 1     │\n",
       "│ 5   │ 1     │ 2     │\n",
       "│ 6   │ 1     │ 3     │"
      ]
     },
     "execution_count": 68,
     "metadata": {},
     "output_type": "execute_result"
    }
   ],
   "source": [
    "df = DataFrame(a=[2,1,1,2,1,3],b=[2,2,1,1,3,2])\n",
    "\n",
    "x = @from i in df begin\n",
    "    @orderby descending(i.a), i.b\n",
    "    @select i\n",
    "    @collect DataFrame\n",
    "end"
   ]
  },
  {
   "cell_type": "markdown",
   "metadata": {
    "slideshow": {
     "slide_type": "slide"
    }
   },
   "source": [
    "### Filtering"
   ]
  },
  {
   "cell_type": "code",
   "execution_count": 69,
   "metadata": {},
   "outputs": [
    {
     "data": {
      "text/html": [
       "<table class=\"data-frame\"><thead><tr><th></th><th>name</th><th>age</th><th>children</th></tr><tr><th></th><th>String</th><th>Float64</th><th>Int64</th></tr></thead><tbody><p>1 rows × 3 columns</p><tr><th>1</th><td>Sally</td><td>42.0</td><td>5</td></tr></tbody></table>"
      ],
      "text/latex": [
       "\\begin{tabular}{r|ccc}\n",
       "\t& name & age & children\\\\\n",
       "\t\\hline\n",
       "\t& String & Float64 & Int64\\\\\n",
       "\t\\hline\n",
       "\t1 & Sally & 42.0 & 5 \\\\\n",
       "\\end{tabular}\n"
      ],
      "text/plain": [
       "1×3 DataFrame\n",
       "│ Row │ name   │ age     │ children │\n",
       "│     │ \u001b[90mString\u001b[39m │ \u001b[90mFloat64\u001b[39m │ \u001b[90mInt64\u001b[39m    │\n",
       "├─────┼────────┼─────────┼──────────┤\n",
       "│ 1   │ Sally  │ 42.0    │ 5        │"
      ]
     },
     "execution_count": 69,
     "metadata": {},
     "output_type": "execute_result"
    }
   ],
   "source": [
    "df = DataFrame(name=[\"John\", \"Sally\", \"Kirk\"], age=[23., 42., 59.], children=[3,5,2])\n",
    "\n",
    "x = @from i in df begin\n",
    "    @where i.age > 30. && i.children > 2\n",
    "    @select i\n",
    "    @collect DataFrame\n",
    "end"
   ]
  },
  {
   "cell_type": "markdown",
   "metadata": {
    "slideshow": {
     "slide_type": "slide"
    }
   },
   "source": [
    "### Projecting"
   ]
  },
  {
   "cell_type": "code",
   "execution_count": 70,
   "metadata": {},
   "outputs": [
    {
     "data": {
      "text/plain": [
       "3-element Array{Int64,1}:\n",
       " 1\n",
       " 4\n",
       " 9"
      ]
     },
     "execution_count": 70,
     "metadata": {},
     "output_type": "execute_result"
    }
   ],
   "source": [
    "data = [1,2,3]\n",
    "\n",
    "x = @from i in data begin\n",
    "    @select i^2\n",
    "    @collect\n",
    "end"
   ]
  },
  {
   "cell_type": "markdown",
   "metadata": {
    "slideshow": {
     "slide_type": "slide"
    }
   },
   "source": [
    "### Flattening"
   ]
  },
  {
   "cell_type": "code",
   "execution_count": 71,
   "metadata": {},
   "outputs": [
    {
     "data": {
      "text/html": [
       "<table class=\"data-frame\"><thead><tr><th></th><th>Key</th><th>Value</th></tr><tr><th></th><th>Symbol</th><th>Int64</th></tr></thead><tbody><p>5 rows × 2 columns</p><tr><th>1</th><td>a</td><td>1</td></tr><tr><th>2</th><td>a</td><td>2</td></tr><tr><th>3</th><td>a</td><td>3</td></tr><tr><th>4</th><td>b</td><td>4</td></tr><tr><th>5</th><td>b</td><td>5</td></tr></tbody></table>"
      ],
      "text/latex": [
       "\\begin{tabular}{r|cc}\n",
       "\t& Key & Value\\\\\n",
       "\t\\hline\n",
       "\t& Symbol & Int64\\\\\n",
       "\t\\hline\n",
       "\t1 & a & 1 \\\\\n",
       "\t2 & a & 2 \\\\\n",
       "\t3 & a & 3 \\\\\n",
       "\t4 & b & 4 \\\\\n",
       "\t5 & b & 5 \\\\\n",
       "\\end{tabular}\n"
      ],
      "text/plain": [
       "5×2 DataFrame\n",
       "│ Row │ Key    │ Value │\n",
       "│     │ \u001b[90mSymbol\u001b[39m │ \u001b[90mInt64\u001b[39m │\n",
       "├─────┼────────┼───────┤\n",
       "│ 1   │ a      │ 1     │\n",
       "│ 2   │ a      │ 2     │\n",
       "│ 3   │ a      │ 3     │\n",
       "│ 4   │ b      │ 4     │\n",
       "│ 5   │ b      │ 5     │"
      ]
     },
     "execution_count": 71,
     "metadata": {},
     "output_type": "execute_result"
    }
   ],
   "source": [
    "source = Dict(:a=>[1,2,3], :b=>[4,5])\n",
    "\n",
    "q = @from i in source begin\n",
    "    @from j in i.second\n",
    "    @select {Key=i.first,Value=j}\n",
    "    @collect DataFrame\n",
    "end"
   ]
  },
  {
   "cell_type": "markdown",
   "metadata": {
    "slideshow": {
     "slide_type": "slide"
    }
   },
   "source": [
    "### Grouping"
   ]
  },
  {
   "cell_type": "code",
   "execution_count": 72,
   "metadata": {},
   "outputs": [
    {
     "data": {
      "text/plain": [
       "2-element Array{Grouping{Int64,String},1}:\n",
       " [\"John\"]\n",
       " [\"Sally\", \"Kirk\"]"
      ]
     },
     "execution_count": 72,
     "metadata": {},
     "output_type": "execute_result"
    }
   ],
   "source": [
    "df = DataFrame(name=[\"John\", \"Sally\", \"Kirk\"], age=[23., 42., 59.], children=[3,2,2])\n",
    "\n",
    "x = @from i in df begin\n",
    "    @group i.name by i.children\n",
    "    @collect\n",
    "end"
   ]
  },
  {
   "cell_type": "markdown",
   "metadata": {
    "slideshow": {
     "slide_type": "slide"
    }
   },
   "source": [
    "# Q & A"
   ]
  }
 ],
 "metadata": {
  "kernelspec": {
   "display_name": "Julia v1.4 [compiled] 1.4.1",
   "language": "julia",
   "name": "julia-v1.4-[compiled]-1.4"
  },
  "language_info": {
   "file_extension": ".jl",
   "mimetype": "application/julia",
   "name": "julia",
   "version": "1.4.1"
  }
 },
 "nbformat": 4,
 "nbformat_minor": 4
}
